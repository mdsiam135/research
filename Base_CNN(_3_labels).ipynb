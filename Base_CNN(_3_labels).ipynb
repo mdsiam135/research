{
  "nbformat": 4,
  "nbformat_minor": 0,
  "metadata": {
    "colab": {
      "provenance": [],
      "mount_file_id": "1hrXCzQlQkdTSovD1PnlOYuZ41e3jFH-N",
      "authorship_tag": "ABX9TyPc4M27NPhADNLyqTr33fKn",
      "include_colab_link": true
    },
    "kernelspec": {
      "name": "python3",
      "display_name": "Python 3"
    },
    "language_info": {
      "name": "python"
    }
  },
  "cells": [
    {
      "cell_type": "markdown",
      "metadata": {
        "id": "view-in-github",
        "colab_type": "text"
      },
      "source": [
        "<a href=\"https://colab.research.google.com/github/mdsiam135/research/blob/main/Base_CNN(_3_labels).ipynb\" target=\"_parent\"><img src=\"https://colab.research.google.com/assets/colab-badge.svg\" alt=\"Open In Colab\"/></a>"
      ]
    },
    {
      "cell_type": "code",
      "source": [
        "# =====================================================================\n",
        "# STEP 1: IMPORT LIBRARIES AND SETUP\n",
        "# =====================================================================\n",
        "\n",
        "import pandas as pd\n",
        "import numpy as np\n",
        "import matplotlib.pyplot as plt\n",
        "import seaborn as sns\n",
        "from sklearn.preprocessing import StandardScaler, LabelEncoder\n",
        "from sklearn.metrics import (classification_report, confusion_matrix,\n",
        "                           accuracy_score, precision_score, recall_score, f1_score)\n",
        "import tensorflow as tf\n",
        "from tensorflow.keras.models import Sequential\n",
        "from tensorflow.keras.layers import Dense, Conv1D, MaxPooling1D, Flatten, Dropout, BatchNormalization\n",
        "from tensorflow.keras.optimizers import Adam\n",
        "from tensorflow.keras.callbacks import EarlyStopping, ReduceLROnPlateau\n",
        "import warnings\n",
        "warnings.filterwarnings('ignore')\n",
        "\n",
        "# Set random seeds for reproducibility\n",
        "np.random.seed(42)\n",
        "tf.random.set_seed(42)\n",
        "\n",
        "print(\"✅ Step 1: Libraries imported successfully!\")\n",
        "print(\"TensorFlow version:\", tf.__version__)\n"
      ],
      "metadata": {
        "colab": {
          "base_uri": "https://localhost:8080/"
        },
        "id": "c0GuA0zMc7xj",
        "outputId": "0ca4b26f-e8a5-46a2-e54c-31e62c829838"
      },
      "execution_count": 5,
      "outputs": [
        {
          "output_type": "stream",
          "name": "stdout",
          "text": [
            "✅ Step 1: Libraries imported successfully!\n",
            "TensorFlow version: 2.18.0\n"
          ]
        }
      ]
    },
    {
      "cell_type": "code",
      "source": [
        "# =====================================================================\n",
        "# STEP 2: LOAD DATASETS\n",
        "# =====================================================================\n",
        "\n",
        "# Load the three CSV files\n",
        "print(\"\\n📂 Step 2: Loading datasets...\")\n",
        "\n",
        "# Update these paths to your actual file locations\n",
        "train_df = pd.read_csv(\"/content/drive/MyDrive/Yearbook of Agricultural Statistics/train.csv\")\n",
        "val_df = pd.read_csv(\"/content/drive/MyDrive/Yearbook of Agricultural Statistics/validation.csv\")\n",
        "test_df = pd.read_csv(\"/content/drive/MyDrive/Yearbook of Agricultural Statistics/test.csv\")\n",
        "\n",
        "print(f\"✅ Train dataset shape: {train_df.shape}\")\n",
        "print(f\"✅ Validation dataset shape: {val_df.shape}\")\n",
        "print(f\"✅ Test dataset shape: {test_df.shape}\")\n",
        "\n",
        "# Display first few rows and basic info\n",
        "print(\"\\n📊 Dataset Info:\")\n",
        "print(\"Training data columns:\")\n",
        "print(train_df.columns.tolist())\n",
        "print(f\"\\nTarget variable stats:\")\n",
        "print(train_df['Production (M.Ton)'].describe())\n"
      ],
      "metadata": {
        "colab": {
          "base_uri": "https://localhost:8080/"
        },
        "id": "Xd-lfxrVc9Ph",
        "outputId": "30b6e95f-809a-4e40-93b6-4568d41ef520"
      },
      "execution_count": 6,
      "outputs": [
        {
          "output_type": "stream",
          "name": "stdout",
          "text": [
            "\n",
            "📂 Step 2: Loading datasets...\n",
            "✅ Train dataset shape: (3584, 84)\n",
            "✅ Validation dataset shape: (768, 84)\n",
            "✅ Test dataset shape: (768, 84)\n",
            "\n",
            "📊 Dataset Info:\n",
            "Training data columns:\n",
            "['Production (M.Ton)', 'Area (Acres)', 'Temperature at 2 Meters Range (C) ', 'Year', 'soil_temperature_0_to_7cm(C)', 'soil_moisture_0_to_7cm(mÂ³/mÂ³)', 'soil_moiture_7_to_28cm(mÂ³/mÂ³)', 'Root Zone Soil Wetness (surface to 100 cm below)', 'total_rain_mm', 'Surface Soil Wetness  (surface to 5 cm below)', 'relative_humidity_2m(%)', 'Precipitation Corrected (mm) ', 'Crop_Beans', 'Crop_Cabbage', 'Crop_Cauliflower', 'Crop_Garlic', 'Crop_Laushak', 'Crop_Onion', 'Crop_Radish', 'Crop_Tomato', 'District_Bagerhat', 'District_Bandarban', 'District_Barguna', 'District_Barishal', 'District_Bhola', 'District_Bogura', 'District_Brahmanbaria', 'District_Chandpur', 'District_Chapai Nawabganj', 'District_Chattogram', 'District_Chuadanga', 'District_Comilla', \"District_Cox's Bazar\", 'District_Dhaka', 'District_Dinajpur', 'District_Faridpur', 'District_Feni', 'District_Gaibandha', 'District_Gazipur', 'District_Gopalganj', 'District_Habiganj', 'District_Jamalpur', 'District_Jashore', 'District_Jhaliokati', 'District_Jhenaidah', 'District_Joypurhat', 'District_Khagrachari', 'District_Khulna', 'District_Kishoreganj', 'District_Kurigram', 'District_Kushtia', 'District_Lakshmipur', 'District_Lalmonirhat', 'District_Madaripur', 'District_Magura', 'District_Manikganj', 'District_Maulvibazar', 'District_Meherpur', 'District_Munshiganj', 'District_Mymensingh', 'District_Naogaon', 'District_Narail', 'District_Narayanganj', 'District_Narsingdi', 'District_Natore', 'District_Netrakona', 'District_Nilphamari', 'District_Noakhali', 'District_Pabna', 'District_Panchagarh', 'District_Patuakhali', 'District_Pirojpur', 'District_Rajbari', 'District_Rajshahi', 'District_Rangamati', 'District_Rangpur', 'District_Satkhira', 'District_Shariatpur', 'District_Sherpur', 'District_Sirajganj', 'District_Sunamganj', 'District_Sylhet', 'District_Tangail', 'District_Thakurgaon']\n",
            "\n",
            "Target variable stats:\n",
            "count      3584.000000\n",
            "mean       7087.490993\n",
            "std       28934.768859\n",
            "min           0.000000\n",
            "25%         732.500000\n",
            "50%        2050.000000\n",
            "75%        5291.250000\n",
            "max      544979.540000\n",
            "Name: Production (M.Ton), dtype: float64\n"
          ]
        }
      ]
    },
    {
      "cell_type": "code",
      "source": [
        "# =====================================================================\n",
        "# STEP 3: CREATE PRODUCTION LABELS BASED ON QUANTILES\n",
        "# =====================================================================\n",
        "\n",
        "print(\"\\n🏷️ Step 3: Creating production labels...\")\n",
        "\n",
        "# Combine all production values to calculate consistent quantiles\n",
        "all_production = pd.concat([\n",
        "    train_df['Production (M.Ton)'],\n",
        "    val_df['Production (M.Ton)'],\n",
        "    test_df['Production (M.Ton)']\n",
        "])\n",
        "\n",
        "# Calculate quantiles (33rd and 66th percentiles)\n",
        "q33 = all_production.quantile(0.33)\n",
        "q66 = all_production.quantile(0.66)\n",
        "\n",
        "print(f\"📊 Low threshold (33rd percentile): {q33:.4f}\")\n",
        "print(f\"📊 High threshold (66th percentile): {q66:.4f}\")\n",
        "\n",
        "# Function to create labels\n",
        "def create_labels(production_series):\n",
        "    labels = []\n",
        "    for prod in production_series:\n",
        "        if prod <= q33:\n",
        "            labels.append('low')\n",
        "        elif prod <= q66:\n",
        "            labels.append('medium')\n",
        "        else:\n",
        "            labels.append('high')\n",
        "    return labels\n",
        "\n",
        "# Create labels for each dataset\n",
        "train_df['production_label'] = create_labels(train_df['Production (M.Ton)'])\n",
        "val_df['production_label'] = create_labels(val_df['Production (M.Ton)'])\n",
        "test_df['production_label'] = create_labels(test_df['Production (M.Ton)'])\n",
        "\n",
        "# Display label distribution\n",
        "print(\"\\n📈 Label distribution:\")\n",
        "print(\"Training set:\")\n",
        "print(train_df['production_label'].value_counts())\n",
        "print(\"\\nValidation set:\")\n",
        "print(val_df['production_label'].value_counts())\n",
        "print(\"\\nTest set:\")\n",
        "print(test_df['production_label'].value_counts())\n"
      ],
      "metadata": {
        "colab": {
          "base_uri": "https://localhost:8080/"
        },
        "id": "uLEUM5RmdKwK",
        "outputId": "370b254e-206f-4c77-9c11-489d53dc3a69"
      },
      "execution_count": 7,
      "outputs": [
        {
          "output_type": "stream",
          "name": "stdout",
          "text": [
            "\n",
            "🏷️ Step 3: Creating production labels...\n",
            "📊 Low threshold (33rd percentile): 1030.0000\n",
            "📊 High threshold (66th percentile): 3800.1600\n",
            "\n",
            "📈 Label distribution:\n",
            "Training set:\n",
            "production_label\n",
            "high      1221\n",
            "low       1188\n",
            "medium    1175\n",
            "Name: count, dtype: int64\n",
            "\n",
            "Validation set:\n",
            "production_label\n",
            "high      263\n",
            "medium    255\n",
            "low       250\n",
            "Name: count, dtype: int64\n",
            "\n",
            "Test set:\n",
            "production_label\n",
            "medium    258\n",
            "high      257\n",
            "low       253\n",
            "Name: count, dtype: int64\n"
          ]
        }
      ]
    },
    {
      "cell_type": "code",
      "source": [
        "# =====================================================================\n",
        "# STEP 4: PREPARE FEATURES AND TARGETS\n",
        "# =====================================================================\n",
        "\n",
        "print(\"\\n🔧 Step 4: Preparing features and targets...\")\n",
        "\n",
        "# Define feature columns (excluding target and label columns)\n",
        "feature_columns = [col for col in train_df.columns\n",
        "                  if col not in ['Production (M.Ton)', 'production_label']]\n",
        "\n",
        "print(f\"✅ Number of features: {len(feature_columns)}\")\n",
        "print(\"Feature sample:\", feature_columns[:10])\n",
        "\n",
        "# Extract features\n",
        "X_train = train_df[feature_columns].values\n",
        "X_val = val_df[feature_columns].values\n",
        "X_test = test_df[feature_columns].values\n",
        "\n",
        "# Handle missing values (replace NaN with 0)\n",
        "X_train = np.nan_to_num(X_train)\n",
        "X_val = np.nan_to_num(X_val)\n",
        "X_test = np.nan_to_num(X_test)\n",
        "\n",
        "print(f\"✅ Features extracted - Train: {X_train.shape}, Val: {X_val.shape}, Test: {X_test.shape}\")\n"
      ],
      "metadata": {
        "colab": {
          "base_uri": "https://localhost:8080/"
        },
        "id": "x_R5G9crdLh8",
        "outputId": "68e3b6e3-2814-4505-bb68-c762ab9c2883"
      },
      "execution_count": 8,
      "outputs": [
        {
          "output_type": "stream",
          "name": "stdout",
          "text": [
            "\n",
            "🔧 Step 4: Preparing features and targets...\n",
            "✅ Number of features: 83\n",
            "Feature sample: ['Area (Acres)', 'Temperature at 2 Meters Range (C) ', 'Year', 'soil_temperature_0_to_7cm(C)', 'soil_moisture_0_to_7cm(mÂ³/mÂ³)', 'soil_moiture_7_to_28cm(mÂ³/mÂ³)', 'Root Zone Soil Wetness (surface to 100 cm below)', 'total_rain_mm', 'Surface Soil Wetness  (surface to 5 cm below)', 'relative_humidity_2m(%)']\n",
            "✅ Features extracted - Train: (3584, 83), Val: (768, 83), Test: (768, 83)\n"
          ]
        }
      ]
    },
    {
      "cell_type": "code",
      "source": [
        "# =====================================================================\n",
        "# STEP 5: SCALE FEATURES\n",
        "# =====================================================================\n",
        "\n",
        "print(\"\\n⚖️ Step 5: Scaling features...\")\n",
        "\n",
        "# Initialize and fit scaler on training data\n",
        "scaler = StandardScaler()\n",
        "X_train_scaled = scaler.fit_transform(X_train)\n",
        "X_val_scaled = scaler.transform(X_val)\n",
        "X_test_scaled = scaler.transform(X_test)\n",
        "\n",
        "print(\"✅ Features scaled successfully!\")\n",
        "print(f\"Scaled train shape: {X_train_scaled.shape}\")"
      ],
      "metadata": {
        "colab": {
          "base_uri": "https://localhost:8080/"
        },
        "id": "OmjWBw_VdRTi",
        "outputId": "d4b1aacb-6f02-476d-e5bf-4d443e27b834"
      },
      "execution_count": 9,
      "outputs": [
        {
          "output_type": "stream",
          "name": "stdout",
          "text": [
            "\n",
            "⚖️ Step 5: Scaling features...\n",
            "✅ Features scaled successfully!\n",
            "Scaled train shape: (3584, 83)\n"
          ]
        }
      ]
    },
    {
      "cell_type": "code",
      "source": [
        "# =====================================================================\n",
        "# STEP 6: RESHAPE DATA FOR CNN AND ENCODE LABELS\n",
        "# =====================================================================\n",
        "\n",
        "print(\"\\n🔄 Step 6: Reshaping data for CNN...\")\n",
        "\n",
        "# Reshape for CNN (add channel dimension)\n",
        "X_train_cnn = X_train_scaled.reshape(X_train_scaled.shape[0], X_train_scaled.shape[1], 1)\n",
        "X_val_cnn = X_val_scaled.reshape(X_val_scaled.shape[0], X_val_scaled.shape[1], 1)\n",
        "X_test_cnn = X_test_scaled.reshape(X_test_scaled.shape[0], X_test_scaled.shape[1], 1)\n",
        "\n",
        "# Encode labels\n",
        "label_encoder = LabelEncoder()\n",
        "all_labels = np.concatenate([\n",
        "    train_df['production_label'].values,\n",
        "    val_df['production_label'].values,\n",
        "    test_df['production_label'].values\n",
        "])\n",
        "label_encoder.fit(all_labels)\n",
        "\n",
        "y_train = label_encoder.transform(train_df['production_label'].values)\n",
        "y_val = label_encoder.transform(val_df['production_label'].values)\n",
        "y_test = label_encoder.transform(test_df['production_label'].values)\n",
        "\n",
        "# Convert to categorical (one-hot encoding)\n",
        "y_train_cat = tf.keras.utils.to_categorical(y_train, num_classes=3)\n",
        "y_val_cat = tf.keras.utils.to_categorical(y_val, num_classes=3)\n",
        "y_test_cat = tf.keras.utils.to_categorical(y_test, num_classes=3)\n",
        "\n",
        "print(f\"✅ Data reshaped - CNN input shape: {X_train_cnn.shape}\")\n",
        "print(f\"✅ Labels encoded - shape: {y_train_cat.shape}\")\n",
        "print(f\"Label classes: {label_encoder.classes_}\")\n"
      ],
      "metadata": {
        "colab": {
          "base_uri": "https://localhost:8080/"
        },
        "id": "UjlLeJl_dR-p",
        "outputId": "4bfda808-4482-48d2-e785-695776c2be39"
      },
      "execution_count": 10,
      "outputs": [
        {
          "output_type": "stream",
          "name": "stdout",
          "text": [
            "\n",
            "🔄 Step 6: Reshaping data for CNN...\n",
            "✅ Data reshaped - CNN input shape: (3584, 83, 1)\n",
            "✅ Labels encoded - shape: (3584, 3)\n",
            "Label classes: ['high' 'low' 'medium']\n"
          ]
        }
      ]
    },
    {
      "cell_type": "code",
      "source": [
        "# =====================================================================\n",
        "# STEP 7: BUILD CNN MODEL\n",
        "# =====================================================================\n",
        "\n",
        "print(\"\\n🏗️ Step 7: Building CNN model...\")\n",
        "\n",
        "# Define input shape\n",
        "input_shape = (X_train_cnn.shape[1], 1)  # (features, channels)\n",
        "\n",
        "# Build CNN model\n",
        "model = Sequential([\n",
        "    # First Conv1D block\n",
        "    Conv1D(filters=64, kernel_size=3, activation='relu', input_shape=input_shape),\n",
        "    BatchNormalization(),\n",
        "    MaxPooling1D(pool_size=2),\n",
        "    Dropout(0.3),\n",
        "\n",
        "    # Second Conv1D block\n",
        "    Conv1D(filters=128, kernel_size=3, activation='relu'),\n",
        "    BatchNormalization(),\n",
        "    MaxPooling1D(pool_size=2),\n",
        "    Dropout(0.3),\n",
        "\n",
        "    # Third Conv1D block\n",
        "    Conv1D(filters=256, kernel_size=3, activation='relu'),\n",
        "    BatchNormalization(),\n",
        "    MaxPooling1D(pool_size=2),\n",
        "    Dropout(0.4),\n",
        "\n",
        "    # Flatten and Dense layers\n",
        "    Flatten(),\n",
        "    Dense(512, activation='relu'),\n",
        "    BatchNormalization(),\n",
        "    Dropout(0.5),\n",
        "\n",
        "    Dense(256, activation='relu'),\n",
        "    BatchNormalization(),\n",
        "    Dropout(0.5),\n",
        "\n",
        "    Dense(128, activation='relu'),\n",
        "    Dropout(0.3),\n",
        "\n",
        "    # Output layer (3 classes: low, medium, high)\n",
        "    Dense(3, activation='softmax')\n",
        "])\n",
        "\n",
        "# Compile model\n",
        "model.compile(\n",
        "    optimizer=Adam(learning_rate=0.001),\n",
        "    loss='categorical_crossentropy',\n",
        "    metrics=['accuracy']\n",
        ")\n",
        "\n",
        "print(\"✅ CNN model built successfully!\")\n",
        "print(\"\\n📋 Model Architecture:\")\n",
        "model.summary()"
      ],
      "metadata": {
        "colab": {
          "base_uri": "https://localhost:8080/",
          "height": 1000
        },
        "id": "ac-VTDQidZl6",
        "outputId": "12f8fcc4-e1bd-426d-9344-862004174f20"
      },
      "execution_count": 11,
      "outputs": [
        {
          "output_type": "stream",
          "name": "stdout",
          "text": [
            "\n",
            "🏗️ Step 7: Building CNN model...\n",
            "✅ CNN model built successfully!\n",
            "\n",
            "📋 Model Architecture:\n"
          ]
        },
        {
          "output_type": "display_data",
          "data": {
            "text/plain": [
              "\u001b[1mModel: \"sequential_3\"\u001b[0m\n"
            ],
            "text/html": [
              "<pre style=\"white-space:pre;overflow-x:auto;line-height:normal;font-family:Menlo,'DejaVu Sans Mono',consolas,'Courier New',monospace\"><span style=\"font-weight: bold\">Model: \"sequential_3\"</span>\n",
              "</pre>\n"
            ]
          },
          "metadata": {}
        },
        {
          "output_type": "display_data",
          "data": {
            "text/plain": [
              "┏━━━━━━━━━━━━━━━━━━━━━━━━━━━━━━━━━┳━━━━━━━━━━━━━━━━━━━━━━━━┳━━━━━━━━━━━━━━━┓\n",
              "┃\u001b[1m \u001b[0m\u001b[1mLayer (type)                   \u001b[0m\u001b[1m \u001b[0m┃\u001b[1m \u001b[0m\u001b[1mOutput Shape          \u001b[0m\u001b[1m \u001b[0m┃\u001b[1m \u001b[0m\u001b[1m      Param #\u001b[0m\u001b[1m \u001b[0m┃\n",
              "┡━━━━━━━━━━━━━━━━━━━━━━━━━━━━━━━━━╇━━━━━━━━━━━━━━━━━━━━━━━━╇━━━━━━━━━━━━━━━┩\n",
              "│ conv1d_9 (\u001b[38;5;33mConv1D\u001b[0m)               │ (\u001b[38;5;45mNone\u001b[0m, \u001b[38;5;34m81\u001b[0m, \u001b[38;5;34m64\u001b[0m)         │           \u001b[38;5;34m256\u001b[0m │\n",
              "├─────────────────────────────────┼────────────────────────┼───────────────┤\n",
              "│ batch_normalization_15          │ (\u001b[38;5;45mNone\u001b[0m, \u001b[38;5;34m81\u001b[0m, \u001b[38;5;34m64\u001b[0m)         │           \u001b[38;5;34m256\u001b[0m │\n",
              "│ (\u001b[38;5;33mBatchNormalization\u001b[0m)            │                        │               │\n",
              "├─────────────────────────────────┼────────────────────────┼───────────────┤\n",
              "│ max_pooling1d_9 (\u001b[38;5;33mMaxPooling1D\u001b[0m)  │ (\u001b[38;5;45mNone\u001b[0m, \u001b[38;5;34m40\u001b[0m, \u001b[38;5;34m64\u001b[0m)         │             \u001b[38;5;34m0\u001b[0m │\n",
              "├─────────────────────────────────┼────────────────────────┼───────────────┤\n",
              "│ dropout_18 (\u001b[38;5;33mDropout\u001b[0m)            │ (\u001b[38;5;45mNone\u001b[0m, \u001b[38;5;34m40\u001b[0m, \u001b[38;5;34m64\u001b[0m)         │             \u001b[38;5;34m0\u001b[0m │\n",
              "├─────────────────────────────────┼────────────────────────┼───────────────┤\n",
              "│ conv1d_10 (\u001b[38;5;33mConv1D\u001b[0m)              │ (\u001b[38;5;45mNone\u001b[0m, \u001b[38;5;34m38\u001b[0m, \u001b[38;5;34m128\u001b[0m)        │        \u001b[38;5;34m24,704\u001b[0m │\n",
              "├─────────────────────────────────┼────────────────────────┼───────────────┤\n",
              "│ batch_normalization_16          │ (\u001b[38;5;45mNone\u001b[0m, \u001b[38;5;34m38\u001b[0m, \u001b[38;5;34m128\u001b[0m)        │           \u001b[38;5;34m512\u001b[0m │\n",
              "│ (\u001b[38;5;33mBatchNormalization\u001b[0m)            │                        │               │\n",
              "├─────────────────────────────────┼────────────────────────┼───────────────┤\n",
              "│ max_pooling1d_10 (\u001b[38;5;33mMaxPooling1D\u001b[0m) │ (\u001b[38;5;45mNone\u001b[0m, \u001b[38;5;34m19\u001b[0m, \u001b[38;5;34m128\u001b[0m)        │             \u001b[38;5;34m0\u001b[0m │\n",
              "├─────────────────────────────────┼────────────────────────┼───────────────┤\n",
              "│ dropout_19 (\u001b[38;5;33mDropout\u001b[0m)            │ (\u001b[38;5;45mNone\u001b[0m, \u001b[38;5;34m19\u001b[0m, \u001b[38;5;34m128\u001b[0m)        │             \u001b[38;5;34m0\u001b[0m │\n",
              "├─────────────────────────────────┼────────────────────────┼───────────────┤\n",
              "│ conv1d_11 (\u001b[38;5;33mConv1D\u001b[0m)              │ (\u001b[38;5;45mNone\u001b[0m, \u001b[38;5;34m17\u001b[0m, \u001b[38;5;34m256\u001b[0m)        │        \u001b[38;5;34m98,560\u001b[0m │\n",
              "├─────────────────────────────────┼────────────────────────┼───────────────┤\n",
              "│ batch_normalization_17          │ (\u001b[38;5;45mNone\u001b[0m, \u001b[38;5;34m17\u001b[0m, \u001b[38;5;34m256\u001b[0m)        │         \u001b[38;5;34m1,024\u001b[0m │\n",
              "│ (\u001b[38;5;33mBatchNormalization\u001b[0m)            │                        │               │\n",
              "├─────────────────────────────────┼────────────────────────┼───────────────┤\n",
              "│ max_pooling1d_11 (\u001b[38;5;33mMaxPooling1D\u001b[0m) │ (\u001b[38;5;45mNone\u001b[0m, \u001b[38;5;34m8\u001b[0m, \u001b[38;5;34m256\u001b[0m)         │             \u001b[38;5;34m0\u001b[0m │\n",
              "├─────────────────────────────────┼────────────────────────┼───────────────┤\n",
              "│ dropout_20 (\u001b[38;5;33mDropout\u001b[0m)            │ (\u001b[38;5;45mNone\u001b[0m, \u001b[38;5;34m8\u001b[0m, \u001b[38;5;34m256\u001b[0m)         │             \u001b[38;5;34m0\u001b[0m │\n",
              "├─────────────────────────────────┼────────────────────────┼───────────────┤\n",
              "│ flatten_3 (\u001b[38;5;33mFlatten\u001b[0m)             │ (\u001b[38;5;45mNone\u001b[0m, \u001b[38;5;34m2048\u001b[0m)           │             \u001b[38;5;34m0\u001b[0m │\n",
              "├─────────────────────────────────┼────────────────────────┼───────────────┤\n",
              "│ dense_12 (\u001b[38;5;33mDense\u001b[0m)                │ (\u001b[38;5;45mNone\u001b[0m, \u001b[38;5;34m512\u001b[0m)            │     \u001b[38;5;34m1,049,088\u001b[0m │\n",
              "├─────────────────────────────────┼────────────────────────┼───────────────┤\n",
              "│ batch_normalization_18          │ (\u001b[38;5;45mNone\u001b[0m, \u001b[38;5;34m512\u001b[0m)            │         \u001b[38;5;34m2,048\u001b[0m │\n",
              "│ (\u001b[38;5;33mBatchNormalization\u001b[0m)            │                        │               │\n",
              "├─────────────────────────────────┼────────────────────────┼───────────────┤\n",
              "│ dropout_21 (\u001b[38;5;33mDropout\u001b[0m)            │ (\u001b[38;5;45mNone\u001b[0m, \u001b[38;5;34m512\u001b[0m)            │             \u001b[38;5;34m0\u001b[0m │\n",
              "├─────────────────────────────────┼────────────────────────┼───────────────┤\n",
              "│ dense_13 (\u001b[38;5;33mDense\u001b[0m)                │ (\u001b[38;5;45mNone\u001b[0m, \u001b[38;5;34m256\u001b[0m)            │       \u001b[38;5;34m131,328\u001b[0m │\n",
              "├─────────────────────────────────┼────────────────────────┼───────────────┤\n",
              "│ batch_normalization_19          │ (\u001b[38;5;45mNone\u001b[0m, \u001b[38;5;34m256\u001b[0m)            │         \u001b[38;5;34m1,024\u001b[0m │\n",
              "│ (\u001b[38;5;33mBatchNormalization\u001b[0m)            │                        │               │\n",
              "├─────────────────────────────────┼────────────────────────┼───────────────┤\n",
              "│ dropout_22 (\u001b[38;5;33mDropout\u001b[0m)            │ (\u001b[38;5;45mNone\u001b[0m, \u001b[38;5;34m256\u001b[0m)            │             \u001b[38;5;34m0\u001b[0m │\n",
              "├─────────────────────────────────┼────────────────────────┼───────────────┤\n",
              "│ dense_14 (\u001b[38;5;33mDense\u001b[0m)                │ (\u001b[38;5;45mNone\u001b[0m, \u001b[38;5;34m128\u001b[0m)            │        \u001b[38;5;34m32,896\u001b[0m │\n",
              "├─────────────────────────────────┼────────────────────────┼───────────────┤\n",
              "│ dropout_23 (\u001b[38;5;33mDropout\u001b[0m)            │ (\u001b[38;5;45mNone\u001b[0m, \u001b[38;5;34m128\u001b[0m)            │             \u001b[38;5;34m0\u001b[0m │\n",
              "├─────────────────────────────────┼────────────────────────┼───────────────┤\n",
              "│ dense_15 (\u001b[38;5;33mDense\u001b[0m)                │ (\u001b[38;5;45mNone\u001b[0m, \u001b[38;5;34m3\u001b[0m)              │           \u001b[38;5;34m387\u001b[0m │\n",
              "└─────────────────────────────────┴────────────────────────┴───────────────┘\n"
            ],
            "text/html": [
              "<pre style=\"white-space:pre;overflow-x:auto;line-height:normal;font-family:Menlo,'DejaVu Sans Mono',consolas,'Courier New',monospace\">┏━━━━━━━━━━━━━━━━━━━━━━━━━━━━━━━━━┳━━━━━━━━━━━━━━━━━━━━━━━━┳━━━━━━━━━━━━━━━┓\n",
              "┃<span style=\"font-weight: bold\"> Layer (type)                    </span>┃<span style=\"font-weight: bold\"> Output Shape           </span>┃<span style=\"font-weight: bold\">       Param # </span>┃\n",
              "┡━━━━━━━━━━━━━━━━━━━━━━━━━━━━━━━━━╇━━━━━━━━━━━━━━━━━━━━━━━━╇━━━━━━━━━━━━━━━┩\n",
              "│ conv1d_9 (<span style=\"color: #0087ff; text-decoration-color: #0087ff\">Conv1D</span>)               │ (<span style=\"color: #00d7ff; text-decoration-color: #00d7ff\">None</span>, <span style=\"color: #00af00; text-decoration-color: #00af00\">81</span>, <span style=\"color: #00af00; text-decoration-color: #00af00\">64</span>)         │           <span style=\"color: #00af00; text-decoration-color: #00af00\">256</span> │\n",
              "├─────────────────────────────────┼────────────────────────┼───────────────┤\n",
              "│ batch_normalization_15          │ (<span style=\"color: #00d7ff; text-decoration-color: #00d7ff\">None</span>, <span style=\"color: #00af00; text-decoration-color: #00af00\">81</span>, <span style=\"color: #00af00; text-decoration-color: #00af00\">64</span>)         │           <span style=\"color: #00af00; text-decoration-color: #00af00\">256</span> │\n",
              "│ (<span style=\"color: #0087ff; text-decoration-color: #0087ff\">BatchNormalization</span>)            │                        │               │\n",
              "├─────────────────────────────────┼────────────────────────┼───────────────┤\n",
              "│ max_pooling1d_9 (<span style=\"color: #0087ff; text-decoration-color: #0087ff\">MaxPooling1D</span>)  │ (<span style=\"color: #00d7ff; text-decoration-color: #00d7ff\">None</span>, <span style=\"color: #00af00; text-decoration-color: #00af00\">40</span>, <span style=\"color: #00af00; text-decoration-color: #00af00\">64</span>)         │             <span style=\"color: #00af00; text-decoration-color: #00af00\">0</span> │\n",
              "├─────────────────────────────────┼────────────────────────┼───────────────┤\n",
              "│ dropout_18 (<span style=\"color: #0087ff; text-decoration-color: #0087ff\">Dropout</span>)            │ (<span style=\"color: #00d7ff; text-decoration-color: #00d7ff\">None</span>, <span style=\"color: #00af00; text-decoration-color: #00af00\">40</span>, <span style=\"color: #00af00; text-decoration-color: #00af00\">64</span>)         │             <span style=\"color: #00af00; text-decoration-color: #00af00\">0</span> │\n",
              "├─────────────────────────────────┼────────────────────────┼───────────────┤\n",
              "│ conv1d_10 (<span style=\"color: #0087ff; text-decoration-color: #0087ff\">Conv1D</span>)              │ (<span style=\"color: #00d7ff; text-decoration-color: #00d7ff\">None</span>, <span style=\"color: #00af00; text-decoration-color: #00af00\">38</span>, <span style=\"color: #00af00; text-decoration-color: #00af00\">128</span>)        │        <span style=\"color: #00af00; text-decoration-color: #00af00\">24,704</span> │\n",
              "├─────────────────────────────────┼────────────────────────┼───────────────┤\n",
              "│ batch_normalization_16          │ (<span style=\"color: #00d7ff; text-decoration-color: #00d7ff\">None</span>, <span style=\"color: #00af00; text-decoration-color: #00af00\">38</span>, <span style=\"color: #00af00; text-decoration-color: #00af00\">128</span>)        │           <span style=\"color: #00af00; text-decoration-color: #00af00\">512</span> │\n",
              "│ (<span style=\"color: #0087ff; text-decoration-color: #0087ff\">BatchNormalization</span>)            │                        │               │\n",
              "├─────────────────────────────────┼────────────────────────┼───────────────┤\n",
              "│ max_pooling1d_10 (<span style=\"color: #0087ff; text-decoration-color: #0087ff\">MaxPooling1D</span>) │ (<span style=\"color: #00d7ff; text-decoration-color: #00d7ff\">None</span>, <span style=\"color: #00af00; text-decoration-color: #00af00\">19</span>, <span style=\"color: #00af00; text-decoration-color: #00af00\">128</span>)        │             <span style=\"color: #00af00; text-decoration-color: #00af00\">0</span> │\n",
              "├─────────────────────────────────┼────────────────────────┼───────────────┤\n",
              "│ dropout_19 (<span style=\"color: #0087ff; text-decoration-color: #0087ff\">Dropout</span>)            │ (<span style=\"color: #00d7ff; text-decoration-color: #00d7ff\">None</span>, <span style=\"color: #00af00; text-decoration-color: #00af00\">19</span>, <span style=\"color: #00af00; text-decoration-color: #00af00\">128</span>)        │             <span style=\"color: #00af00; text-decoration-color: #00af00\">0</span> │\n",
              "├─────────────────────────────────┼────────────────────────┼───────────────┤\n",
              "│ conv1d_11 (<span style=\"color: #0087ff; text-decoration-color: #0087ff\">Conv1D</span>)              │ (<span style=\"color: #00d7ff; text-decoration-color: #00d7ff\">None</span>, <span style=\"color: #00af00; text-decoration-color: #00af00\">17</span>, <span style=\"color: #00af00; text-decoration-color: #00af00\">256</span>)        │        <span style=\"color: #00af00; text-decoration-color: #00af00\">98,560</span> │\n",
              "├─────────────────────────────────┼────────────────────────┼───────────────┤\n",
              "│ batch_normalization_17          │ (<span style=\"color: #00d7ff; text-decoration-color: #00d7ff\">None</span>, <span style=\"color: #00af00; text-decoration-color: #00af00\">17</span>, <span style=\"color: #00af00; text-decoration-color: #00af00\">256</span>)        │         <span style=\"color: #00af00; text-decoration-color: #00af00\">1,024</span> │\n",
              "│ (<span style=\"color: #0087ff; text-decoration-color: #0087ff\">BatchNormalization</span>)            │                        │               │\n",
              "├─────────────────────────────────┼────────────────────────┼───────────────┤\n",
              "│ max_pooling1d_11 (<span style=\"color: #0087ff; text-decoration-color: #0087ff\">MaxPooling1D</span>) │ (<span style=\"color: #00d7ff; text-decoration-color: #00d7ff\">None</span>, <span style=\"color: #00af00; text-decoration-color: #00af00\">8</span>, <span style=\"color: #00af00; text-decoration-color: #00af00\">256</span>)         │             <span style=\"color: #00af00; text-decoration-color: #00af00\">0</span> │\n",
              "├─────────────────────────────────┼────────────────────────┼───────────────┤\n",
              "│ dropout_20 (<span style=\"color: #0087ff; text-decoration-color: #0087ff\">Dropout</span>)            │ (<span style=\"color: #00d7ff; text-decoration-color: #00d7ff\">None</span>, <span style=\"color: #00af00; text-decoration-color: #00af00\">8</span>, <span style=\"color: #00af00; text-decoration-color: #00af00\">256</span>)         │             <span style=\"color: #00af00; text-decoration-color: #00af00\">0</span> │\n",
              "├─────────────────────────────────┼────────────────────────┼───────────────┤\n",
              "│ flatten_3 (<span style=\"color: #0087ff; text-decoration-color: #0087ff\">Flatten</span>)             │ (<span style=\"color: #00d7ff; text-decoration-color: #00d7ff\">None</span>, <span style=\"color: #00af00; text-decoration-color: #00af00\">2048</span>)           │             <span style=\"color: #00af00; text-decoration-color: #00af00\">0</span> │\n",
              "├─────────────────────────────────┼────────────────────────┼───────────────┤\n",
              "│ dense_12 (<span style=\"color: #0087ff; text-decoration-color: #0087ff\">Dense</span>)                │ (<span style=\"color: #00d7ff; text-decoration-color: #00d7ff\">None</span>, <span style=\"color: #00af00; text-decoration-color: #00af00\">512</span>)            │     <span style=\"color: #00af00; text-decoration-color: #00af00\">1,049,088</span> │\n",
              "├─────────────────────────────────┼────────────────────────┼───────────────┤\n",
              "│ batch_normalization_18          │ (<span style=\"color: #00d7ff; text-decoration-color: #00d7ff\">None</span>, <span style=\"color: #00af00; text-decoration-color: #00af00\">512</span>)            │         <span style=\"color: #00af00; text-decoration-color: #00af00\">2,048</span> │\n",
              "│ (<span style=\"color: #0087ff; text-decoration-color: #0087ff\">BatchNormalization</span>)            │                        │               │\n",
              "├─────────────────────────────────┼────────────────────────┼───────────────┤\n",
              "│ dropout_21 (<span style=\"color: #0087ff; text-decoration-color: #0087ff\">Dropout</span>)            │ (<span style=\"color: #00d7ff; text-decoration-color: #00d7ff\">None</span>, <span style=\"color: #00af00; text-decoration-color: #00af00\">512</span>)            │             <span style=\"color: #00af00; text-decoration-color: #00af00\">0</span> │\n",
              "├─────────────────────────────────┼────────────────────────┼───────────────┤\n",
              "│ dense_13 (<span style=\"color: #0087ff; text-decoration-color: #0087ff\">Dense</span>)                │ (<span style=\"color: #00d7ff; text-decoration-color: #00d7ff\">None</span>, <span style=\"color: #00af00; text-decoration-color: #00af00\">256</span>)            │       <span style=\"color: #00af00; text-decoration-color: #00af00\">131,328</span> │\n",
              "├─────────────────────────────────┼────────────────────────┼───────────────┤\n",
              "│ batch_normalization_19          │ (<span style=\"color: #00d7ff; text-decoration-color: #00d7ff\">None</span>, <span style=\"color: #00af00; text-decoration-color: #00af00\">256</span>)            │         <span style=\"color: #00af00; text-decoration-color: #00af00\">1,024</span> │\n",
              "│ (<span style=\"color: #0087ff; text-decoration-color: #0087ff\">BatchNormalization</span>)            │                        │               │\n",
              "├─────────────────────────────────┼────────────────────────┼───────────────┤\n",
              "│ dropout_22 (<span style=\"color: #0087ff; text-decoration-color: #0087ff\">Dropout</span>)            │ (<span style=\"color: #00d7ff; text-decoration-color: #00d7ff\">None</span>, <span style=\"color: #00af00; text-decoration-color: #00af00\">256</span>)            │             <span style=\"color: #00af00; text-decoration-color: #00af00\">0</span> │\n",
              "├─────────────────────────────────┼────────────────────────┼───────────────┤\n",
              "│ dense_14 (<span style=\"color: #0087ff; text-decoration-color: #0087ff\">Dense</span>)                │ (<span style=\"color: #00d7ff; text-decoration-color: #00d7ff\">None</span>, <span style=\"color: #00af00; text-decoration-color: #00af00\">128</span>)            │        <span style=\"color: #00af00; text-decoration-color: #00af00\">32,896</span> │\n",
              "├─────────────────────────────────┼────────────────────────┼───────────────┤\n",
              "│ dropout_23 (<span style=\"color: #0087ff; text-decoration-color: #0087ff\">Dropout</span>)            │ (<span style=\"color: #00d7ff; text-decoration-color: #00d7ff\">None</span>, <span style=\"color: #00af00; text-decoration-color: #00af00\">128</span>)            │             <span style=\"color: #00af00; text-decoration-color: #00af00\">0</span> │\n",
              "├─────────────────────────────────┼────────────────────────┼───────────────┤\n",
              "│ dense_15 (<span style=\"color: #0087ff; text-decoration-color: #0087ff\">Dense</span>)                │ (<span style=\"color: #00d7ff; text-decoration-color: #00d7ff\">None</span>, <span style=\"color: #00af00; text-decoration-color: #00af00\">3</span>)              │           <span style=\"color: #00af00; text-decoration-color: #00af00\">387</span> │\n",
              "└─────────────────────────────────┴────────────────────────┴───────────────┘\n",
              "</pre>\n"
            ]
          },
          "metadata": {}
        },
        {
          "output_type": "display_data",
          "data": {
            "text/plain": [
              "\u001b[1m Total params: \u001b[0m\u001b[38;5;34m1,342,083\u001b[0m (5.12 MB)\n"
            ],
            "text/html": [
              "<pre style=\"white-space:pre;overflow-x:auto;line-height:normal;font-family:Menlo,'DejaVu Sans Mono',consolas,'Courier New',monospace\"><span style=\"font-weight: bold\"> Total params: </span><span style=\"color: #00af00; text-decoration-color: #00af00\">1,342,083</span> (5.12 MB)\n",
              "</pre>\n"
            ]
          },
          "metadata": {}
        },
        {
          "output_type": "display_data",
          "data": {
            "text/plain": [
              "\u001b[1m Trainable params: \u001b[0m\u001b[38;5;34m1,339,651\u001b[0m (5.11 MB)\n"
            ],
            "text/html": [
              "<pre style=\"white-space:pre;overflow-x:auto;line-height:normal;font-family:Menlo,'DejaVu Sans Mono',consolas,'Courier New',monospace\"><span style=\"font-weight: bold\"> Trainable params: </span><span style=\"color: #00af00; text-decoration-color: #00af00\">1,339,651</span> (5.11 MB)\n",
              "</pre>\n"
            ]
          },
          "metadata": {}
        },
        {
          "output_type": "display_data",
          "data": {
            "text/plain": [
              "\u001b[1m Non-trainable params: \u001b[0m\u001b[38;5;34m2,432\u001b[0m (9.50 KB)\n"
            ],
            "text/html": [
              "<pre style=\"white-space:pre;overflow-x:auto;line-height:normal;font-family:Menlo,'DejaVu Sans Mono',consolas,'Courier New',monospace\"><span style=\"font-weight: bold\"> Non-trainable params: </span><span style=\"color: #00af00; text-decoration-color: #00af00\">2,432</span> (9.50 KB)\n",
              "</pre>\n"
            ]
          },
          "metadata": {}
        }
      ]
    },
    {
      "cell_type": "code",
      "source": [
        "\n",
        "# =====================================================================\n",
        "# STEP 8: SETUP TRAINING CALLBACKS\n",
        "# =====================================================================\n",
        "\n",
        "print(\"\\n⚙️ Step 8: Setting up training callbacks...\")\n",
        "\n",
        "# Early stopping to prevent overfitting\n",
        "early_stopping = EarlyStopping(\n",
        "    monitor='val_loss',\n",
        "    patience=15,\n",
        "    restore_best_weights=True,\n",
        "    verbose=1\n",
        ")\n",
        "\n",
        "# Reduce learning rate when stuck\n",
        "reduce_lr = ReduceLROnPlateau(\n",
        "    monitor='val_loss',\n",
        "    factor=0.5,\n",
        "    patience=8,\n",
        "    min_lr=0.00001,\n",
        "    verbose=1\n",
        ")\n",
        "\n",
        "print(\"✅ Callbacks configured:\")\n",
        "print(\"- Early stopping with patience=15\")\n",
        "print(\"- Learning rate reduction with patience=8\")"
      ],
      "metadata": {
        "colab": {
          "base_uri": "https://localhost:8080/"
        },
        "id": "oG6yeA2SdaMZ",
        "outputId": "868f7583-deaf-499e-b933-2fb42180ee9d"
      },
      "execution_count": 12,
      "outputs": [
        {
          "output_type": "stream",
          "name": "stdout",
          "text": [
            "\n",
            "⚙️ Step 8: Setting up training callbacks...\n",
            "✅ Callbacks configured:\n",
            "- Early stopping with patience=15\n",
            "- Learning rate reduction with patience=8\n"
          ]
        }
      ]
    },
    {
      "cell_type": "code",
      "source": [
        "\n",
        "\n",
        "# =====================================================================\n",
        "# STEP 9: TRAIN THE MODEL\n",
        "# =====================================================================\n",
        "\n",
        "print(\"\\n🚀 Step 9: Training the model...\")\n",
        "\n",
        "# Set training parameters\n",
        "EPOCHS = 50\n",
        "BATCH_SIZE = 32\n",
        "\n",
        "print(f\"Training parameters:\")\n",
        "print(f\"- Epochs: {EPOCHS}\")\n",
        "print(f\"- Batch size: {BATCH_SIZE}\")\n",
        "print(f\"- Training samples: {len(X_train_cnn)}\")\n",
        "print(f\"- Validation samples: {len(X_val_cnn)}\")\n",
        "\n",
        "# Train the model\n",
        "history = model.fit(\n",
        "    X_train_cnn, y_train_cat,\n",
        "    validation_data=(X_val_cnn, y_val_cat),\n",
        "    epochs=EPOCHS,\n",
        "    batch_size=BATCH_SIZE,\n",
        "    callbacks=[early_stopping, reduce_lr],\n",
        "    verbose=1\n",
        ")\n",
        "\n",
        "print(\"✅ Model training completed!\")"
      ],
      "metadata": {
        "colab": {
          "base_uri": "https://localhost:8080/"
        },
        "id": "AXM56VLJdlWC",
        "outputId": "c43891e8-e563-427c-a5ec-d78dde796823"
      },
      "execution_count": 13,
      "outputs": [
        {
          "output_type": "stream",
          "name": "stdout",
          "text": [
            "\n",
            "🚀 Step 9: Training the model...\n",
            "Training parameters:\n",
            "- Epochs: 50\n",
            "- Batch size: 32\n",
            "- Training samples: 3584\n",
            "- Validation samples: 768\n",
            "Epoch 1/50\n",
            "\u001b[1m112/112\u001b[0m \u001b[32m━━━━━━━━━━━━━━━━━━━━\u001b[0m\u001b[37m\u001b[0m \u001b[1m16s\u001b[0m 79ms/step - accuracy: 0.3756 - loss: 1.6629 - val_accuracy: 0.4583 - val_loss: 1.0668 - learning_rate: 0.0010\n",
            "Epoch 2/50\n",
            "\u001b[1m112/112\u001b[0m \u001b[32m━━━━━━━━━━━━━━━━━━━━\u001b[0m\u001b[37m\u001b[0m \u001b[1m8s\u001b[0m 59ms/step - accuracy: 0.4052 - loss: 1.3615 - val_accuracy: 0.3854 - val_loss: 1.0723 - learning_rate: 0.0010\n",
            "Epoch 3/50\n",
            "\u001b[1m112/112\u001b[0m \u001b[32m━━━━━━━━━━━━━━━━━━━━\u001b[0m\u001b[37m\u001b[0m \u001b[1m10s\u001b[0m 56ms/step - accuracy: 0.4510 - loss: 1.1703 - val_accuracy: 0.5221 - val_loss: 0.9794 - learning_rate: 0.0010\n",
            "Epoch 4/50\n",
            "\u001b[1m112/112\u001b[0m \u001b[32m━━━━━━━━━━━━━━━━━━━━\u001b[0m\u001b[37m\u001b[0m \u001b[1m13s\u001b[0m 77ms/step - accuracy: 0.5209 - loss: 1.0285 - val_accuracy: 0.6367 - val_loss: 0.8015 - learning_rate: 0.0010\n",
            "Epoch 5/50\n",
            "\u001b[1m112/112\u001b[0m \u001b[32m━━━━━━━━━━━━━━━━━━━━\u001b[0m\u001b[37m\u001b[0m \u001b[1m7s\u001b[0m 64ms/step - accuracy: 0.5434 - loss: 0.9485 - val_accuracy: 0.6810 - val_loss: 0.7196 - learning_rate: 0.0010\n",
            "Epoch 6/50\n",
            "\u001b[1m112/112\u001b[0m \u001b[32m━━━━━━━━━━━━━━━━━━━━\u001b[0m\u001b[37m\u001b[0m \u001b[1m9s\u001b[0m 55ms/step - accuracy: 0.5916 - loss: 0.8556 - val_accuracy: 0.6966 - val_loss: 0.6929 - learning_rate: 0.0010\n",
            "Epoch 7/50\n",
            "\u001b[1m112/112\u001b[0m \u001b[32m━━━━━━━━━━━━━━━━━━━━\u001b[0m\u001b[37m\u001b[0m \u001b[1m12s\u001b[0m 71ms/step - accuracy: 0.6233 - loss: 0.8168 - val_accuracy: 0.7018 - val_loss: 0.6527 - learning_rate: 0.0010\n",
            "Epoch 8/50\n",
            "\u001b[1m112/112\u001b[0m \u001b[32m━━━━━━━━━━━━━━━━━━━━\u001b[0m\u001b[37m\u001b[0m \u001b[1m11s\u001b[0m 78ms/step - accuracy: 0.6347 - loss: 0.8057 - val_accuracy: 0.7201 - val_loss: 0.6313 - learning_rate: 0.0010\n",
            "Epoch 9/50\n",
            "\u001b[1m112/112\u001b[0m \u001b[32m━━━━━━━━━━━━━━━━━━━━\u001b[0m\u001b[37m\u001b[0m \u001b[1m9s\u001b[0m 62ms/step - accuracy: 0.6628 - loss: 0.7328 - val_accuracy: 0.7096 - val_loss: 0.6090 - learning_rate: 0.0010\n",
            "Epoch 10/50\n",
            "\u001b[1m112/112\u001b[0m \u001b[32m━━━━━━━━━━━━━━━━━━━━\u001b[0m\u001b[37m\u001b[0m \u001b[1m9s\u001b[0m 79ms/step - accuracy: 0.6752 - loss: 0.7170 - val_accuracy: 0.7370 - val_loss: 0.5911 - learning_rate: 0.0010\n",
            "Epoch 11/50\n",
            "\u001b[1m112/112\u001b[0m \u001b[32m━━━━━━━━━━━━━━━━━━━━\u001b[0m\u001b[37m\u001b[0m \u001b[1m7s\u001b[0m 62ms/step - accuracy: 0.6964 - loss: 0.6815 - val_accuracy: 0.7292 - val_loss: 0.5746 - learning_rate: 0.0010\n",
            "Epoch 12/50\n",
            "\u001b[1m112/112\u001b[0m \u001b[32m━━━━━━━━━━━━━━━━━━━━\u001b[0m\u001b[37m\u001b[0m \u001b[1m9s\u001b[0m 77ms/step - accuracy: 0.6894 - loss: 0.6656 - val_accuracy: 0.7409 - val_loss: 0.5503 - learning_rate: 0.0010\n",
            "Epoch 13/50\n",
            "\u001b[1m112/112\u001b[0m \u001b[32m━━━━━━━━━━━━━━━━━━━━\u001b[0m\u001b[37m\u001b[0m \u001b[1m6s\u001b[0m 56ms/step - accuracy: 0.7234 - loss: 0.6366 - val_accuracy: 0.7682 - val_loss: 0.5053 - learning_rate: 0.0010\n",
            "Epoch 14/50\n",
            "\u001b[1m112/112\u001b[0m \u001b[32m━━━━━━━━━━━━━━━━━━━━\u001b[0m\u001b[37m\u001b[0m \u001b[1m10s\u001b[0m 57ms/step - accuracy: 0.7447 - loss: 0.6154 - val_accuracy: 0.7682 - val_loss: 0.5006 - learning_rate: 0.0010\n",
            "Epoch 15/50\n",
            "\u001b[1m112/112\u001b[0m \u001b[32m━━━━━━━━━━━━━━━━━━━━\u001b[0m\u001b[37m\u001b[0m \u001b[1m9s\u001b[0m 79ms/step - accuracy: 0.7268 - loss: 0.6033 - val_accuracy: 0.7930 - val_loss: 0.4556 - learning_rate: 0.0010\n",
            "Epoch 16/50\n",
            "\u001b[1m112/112\u001b[0m \u001b[32m━━━━━━━━━━━━━━━━━━━━\u001b[0m\u001b[37m\u001b[0m \u001b[1m7s\u001b[0m 61ms/step - accuracy: 0.7685 - loss: 0.5538 - val_accuracy: 0.7917 - val_loss: 0.4504 - learning_rate: 0.0010\n",
            "Epoch 17/50\n",
            "\u001b[1m112/112\u001b[0m \u001b[32m━━━━━━━━━━━━━━━━━━━━\u001b[0m\u001b[37m\u001b[0m \u001b[1m12s\u001b[0m 74ms/step - accuracy: 0.7642 - loss: 0.5472 - val_accuracy: 0.8164 - val_loss: 0.4249 - learning_rate: 0.0010\n",
            "Epoch 18/50\n",
            "\u001b[1m112/112\u001b[0m \u001b[32m━━━━━━━━━━━━━━━━━━━━\u001b[0m\u001b[37m\u001b[0m \u001b[1m11s\u001b[0m 80ms/step - accuracy: 0.7854 - loss: 0.5071 - val_accuracy: 0.8242 - val_loss: 0.4138 - learning_rate: 0.0010\n",
            "Epoch 19/50\n",
            "\u001b[1m112/112\u001b[0m \u001b[32m━━━━━━━━━━━━━━━━━━━━\u001b[0m\u001b[37m\u001b[0m \u001b[1m8s\u001b[0m 60ms/step - accuracy: 0.7891 - loss: 0.4912 - val_accuracy: 0.8464 - val_loss: 0.3899 - learning_rate: 0.0010\n",
            "Epoch 20/50\n",
            "\u001b[1m112/112\u001b[0m \u001b[32m━━━━━━━━━━━━━━━━━━━━\u001b[0m\u001b[37m\u001b[0m \u001b[1m9s\u001b[0m 77ms/step - accuracy: 0.7971 - loss: 0.4960 - val_accuracy: 0.8568 - val_loss: 0.3626 - learning_rate: 0.0010\n",
            "Epoch 21/50\n",
            "\u001b[1m112/112\u001b[0m \u001b[32m━━━━━━━━━━━━━━━━━━━━\u001b[0m\u001b[37m\u001b[0m \u001b[1m9s\u001b[0m 66ms/step - accuracy: 0.8010 - loss: 0.4835 - val_accuracy: 0.8490 - val_loss: 0.3679 - learning_rate: 0.0010\n",
            "Epoch 22/50\n",
            "\u001b[1m112/112\u001b[0m \u001b[32m━━━━━━━━━━━━━━━━━━━━\u001b[0m\u001b[37m\u001b[0m \u001b[1m10s\u001b[0m 60ms/step - accuracy: 0.8063 - loss: 0.4526 - val_accuracy: 0.8542 - val_loss: 0.3521 - learning_rate: 0.0010\n",
            "Epoch 23/50\n",
            "\u001b[1m112/112\u001b[0m \u001b[32m━━━━━━━━━━━━━━━━━━━━\u001b[0m\u001b[37m\u001b[0m \u001b[1m9s\u001b[0m 77ms/step - accuracy: 0.8305 - loss: 0.4326 - val_accuracy: 0.8529 - val_loss: 0.3382 - learning_rate: 0.0010\n",
            "Epoch 24/50\n",
            "\u001b[1m112/112\u001b[0m \u001b[32m━━━━━━━━━━━━━━━━━━━━\u001b[0m\u001b[37m\u001b[0m \u001b[1m9s\u001b[0m 63ms/step - accuracy: 0.8279 - loss: 0.4283 - val_accuracy: 0.8659 - val_loss: 0.3256 - learning_rate: 0.0010\n",
            "Epoch 25/50\n",
            "\u001b[1m112/112\u001b[0m \u001b[32m━━━━━━━━━━━━━━━━━━━━\u001b[0m\u001b[37m\u001b[0m \u001b[1m9s\u001b[0m 78ms/step - accuracy: 0.8224 - loss: 0.4135 - val_accuracy: 0.8737 - val_loss: 0.3165 - learning_rate: 0.0010\n",
            "Epoch 26/50\n",
            "\u001b[1m112/112\u001b[0m \u001b[32m━━━━━━━━━━━━━━━━━━━━\u001b[0m\u001b[37m\u001b[0m \u001b[1m7s\u001b[0m 62ms/step - accuracy: 0.8428 - loss: 0.3939 - val_accuracy: 0.8685 - val_loss: 0.3325 - learning_rate: 0.0010\n",
            "Epoch 27/50\n",
            "\u001b[1m112/112\u001b[0m \u001b[32m━━━━━━━━━━━━━━━━━━━━\u001b[0m\u001b[37m\u001b[0m \u001b[1m11s\u001b[0m 64ms/step - accuracy: 0.8220 - loss: 0.4251 - val_accuracy: 0.8789 - val_loss: 0.3156 - learning_rate: 0.0010\n",
            "Epoch 28/50\n",
            "\u001b[1m112/112\u001b[0m \u001b[32m━━━━━━━━━━━━━━━━━━━━\u001b[0m\u001b[37m\u001b[0m \u001b[1m12s\u001b[0m 77ms/step - accuracy: 0.8526 - loss: 0.3649 - val_accuracy: 0.8724 - val_loss: 0.3115 - learning_rate: 0.0010\n",
            "Epoch 29/50\n",
            "\u001b[1m112/112\u001b[0m \u001b[32m━━━━━━━━━━━━━━━━━━━━\u001b[0m\u001b[37m\u001b[0m \u001b[1m7s\u001b[0m 60ms/step - accuracy: 0.8495 - loss: 0.3656 - val_accuracy: 0.8685 - val_loss: 0.3189 - learning_rate: 0.0010\n",
            "Epoch 30/50\n",
            "\u001b[1m112/112\u001b[0m \u001b[32m━━━━━━━━━━━━━━━━━━━━\u001b[0m\u001b[37m\u001b[0m \u001b[1m11s\u001b[0m 63ms/step - accuracy: 0.8441 - loss: 0.3796 - val_accuracy: 0.8776 - val_loss: 0.3013 - learning_rate: 0.0010\n",
            "Epoch 31/50\n",
            "\u001b[1m112/112\u001b[0m \u001b[32m━━━━━━━━━━━━━━━━━━━━\u001b[0m\u001b[37m\u001b[0m \u001b[1m9s\u001b[0m 82ms/step - accuracy: 0.8578 - loss: 0.3483 - val_accuracy: 0.8711 - val_loss: 0.3028 - learning_rate: 0.0010\n",
            "Epoch 32/50\n",
            "\u001b[1m112/112\u001b[0m \u001b[32m━━━━━━━━━━━━━━━━━━━━\u001b[0m\u001b[37m\u001b[0m \u001b[1m7s\u001b[0m 61ms/step - accuracy: 0.8634 - loss: 0.3484 - val_accuracy: 0.8867 - val_loss: 0.2913 - learning_rate: 0.0010\n",
            "Epoch 33/50\n",
            "\u001b[1m112/112\u001b[0m \u001b[32m━━━━━━━━━━━━━━━━━━━━\u001b[0m\u001b[37m\u001b[0m \u001b[1m9s\u001b[0m 76ms/step - accuracy: 0.8603 - loss: 0.3572 - val_accuracy: 0.8750 - val_loss: 0.2913 - learning_rate: 0.0010\n",
            "Epoch 34/50\n",
            "\u001b[1m112/112\u001b[0m \u001b[32m━━━━━━━━━━━━━━━━━━━━\u001b[0m\u001b[37m\u001b[0m \u001b[1m9s\u001b[0m 62ms/step - accuracy: 0.8715 - loss: 0.3257 - val_accuracy: 0.8698 - val_loss: 0.3094 - learning_rate: 0.0010\n",
            "Epoch 35/50\n",
            "\u001b[1m112/112\u001b[0m \u001b[32m━━━━━━━━━━━━━━━━━━━━\u001b[0m\u001b[37m\u001b[0m \u001b[1m10s\u001b[0m 62ms/step - accuracy: 0.8630 - loss: 0.3441 - val_accuracy: 0.8854 - val_loss: 0.2943 - learning_rate: 0.0010\n",
            "Epoch 36/50\n",
            "\u001b[1m112/112\u001b[0m \u001b[32m━━━━━━━━━━━━━━━━━━━━\u001b[0m\u001b[37m\u001b[0m \u001b[1m9s\u001b[0m 77ms/step - accuracy: 0.8610 - loss: 0.3528 - val_accuracy: 0.8919 - val_loss: 0.2897 - learning_rate: 0.0010\n",
            "Epoch 37/50\n",
            "\u001b[1m112/112\u001b[0m \u001b[32m━━━━━━━━━━━━━━━━━━━━\u001b[0m\u001b[37m\u001b[0m \u001b[1m9s\u001b[0m 63ms/step - accuracy: 0.8758 - loss: 0.3256 - val_accuracy: 0.8802 - val_loss: 0.2867 - learning_rate: 0.0010\n",
            "Epoch 38/50\n",
            "\u001b[1m112/112\u001b[0m \u001b[32m━━━━━━━━━━━━━━━━━━━━\u001b[0m\u001b[37m\u001b[0m \u001b[1m10s\u001b[0m 60ms/step - accuracy: 0.8896 - loss: 0.2910 - val_accuracy: 0.8776 - val_loss: 0.2871 - learning_rate: 0.0010\n",
            "Epoch 39/50\n",
            "\u001b[1m112/112\u001b[0m \u001b[32m━━━━━━━━━━━━━━━━━━━━\u001b[0m\u001b[37m\u001b[0m \u001b[1m9s\u001b[0m 77ms/step - accuracy: 0.8724 - loss: 0.3054 - val_accuracy: 0.8867 - val_loss: 0.2851 - learning_rate: 0.0010\n",
            "Epoch 40/50\n",
            "\u001b[1m112/112\u001b[0m \u001b[32m━━━━━━━━━━━━━━━━━━━━\u001b[0m\u001b[37m\u001b[0m \u001b[1m7s\u001b[0m 62ms/step - accuracy: 0.8704 - loss: 0.3273 - val_accuracy: 0.8802 - val_loss: 0.2935 - learning_rate: 0.0010\n",
            "Epoch 41/50\n",
            "\u001b[1m112/112\u001b[0m \u001b[32m━━━━━━━━━━━━━━━━━━━━\u001b[0m\u001b[37m\u001b[0m \u001b[1m12s\u001b[0m 75ms/step - accuracy: 0.8826 - loss: 0.3036 - val_accuracy: 0.8802 - val_loss: 0.2919 - learning_rate: 0.0010\n",
            "Epoch 42/50\n",
            "\u001b[1m112/112\u001b[0m \u001b[32m━━━━━━━━━━━━━━━━━━━━\u001b[0m\u001b[37m\u001b[0m \u001b[1m10s\u001b[0m 73ms/step - accuracy: 0.8762 - loss: 0.3057 - val_accuracy: 0.8841 - val_loss: 0.2813 - learning_rate: 0.0010\n",
            "Epoch 43/50\n",
            "\u001b[1m112/112\u001b[0m \u001b[32m━━━━━━━━━━━━━━━━━━━━\u001b[0m\u001b[37m\u001b[0m \u001b[1m9s\u001b[0m 60ms/step - accuracy: 0.8852 - loss: 0.2909 - val_accuracy: 0.8776 - val_loss: 0.2887 - learning_rate: 0.0010\n",
            "Epoch 44/50\n",
            "\u001b[1m112/112\u001b[0m \u001b[32m━━━━━━━━━━━━━━━━━━━━\u001b[0m\u001b[37m\u001b[0m \u001b[1m11s\u001b[0m 69ms/step - accuracy: 0.8845 - loss: 0.2886 - val_accuracy: 0.8841 - val_loss: 0.2682 - learning_rate: 0.0010\n",
            "Epoch 45/50\n",
            "\u001b[1m112/112\u001b[0m \u001b[32m━━━━━━━━━━━━━━━━━━━━\u001b[0m\u001b[37m\u001b[0m \u001b[1m11s\u001b[0m 76ms/step - accuracy: 0.8788 - loss: 0.2918 - val_accuracy: 0.8958 - val_loss: 0.2686 - learning_rate: 0.0010\n",
            "Epoch 46/50\n",
            "\u001b[1m112/112\u001b[0m \u001b[32m━━━━━━━━━━━━━━━━━━━━\u001b[0m\u001b[37m\u001b[0m \u001b[1m8s\u001b[0m 57ms/step - accuracy: 0.8905 - loss: 0.2838 - val_accuracy: 0.8841 - val_loss: 0.2755 - learning_rate: 0.0010\n",
            "Epoch 47/50\n",
            "\u001b[1m112/112\u001b[0m \u001b[32m━━━━━━━━━━━━━━━━━━━━\u001b[0m\u001b[37m\u001b[0m \u001b[1m11s\u001b[0m 63ms/step - accuracy: 0.8810 - loss: 0.2976 - val_accuracy: 0.8828 - val_loss: 0.2688 - learning_rate: 0.0010\n",
            "Epoch 48/50\n",
            "\u001b[1m112/112\u001b[0m \u001b[32m━━━━━━━━━━━━━━━━━━━━\u001b[0m\u001b[37m\u001b[0m \u001b[1m11s\u001b[0m 73ms/step - accuracy: 0.8797 - loss: 0.2936 - val_accuracy: 0.8815 - val_loss: 0.2702 - learning_rate: 0.0010\n",
            "Epoch 49/50\n",
            "\u001b[1m112/112\u001b[0m \u001b[32m━━━━━━━━━━━━━━━━━━━━\u001b[0m\u001b[37m\u001b[0m \u001b[1m8s\u001b[0m 68ms/step - accuracy: 0.8798 - loss: 0.2950 - val_accuracy: 0.8867 - val_loss: 0.2695 - learning_rate: 0.0010\n",
            "Epoch 50/50\n",
            "\u001b[1m112/112\u001b[0m \u001b[32m━━━━━━━━━━━━━━━━━━━━\u001b[0m\u001b[37m\u001b[0m \u001b[1m10s\u001b[0m 62ms/step - accuracy: 0.8925 - loss: 0.2886 - val_accuracy: 0.8867 - val_loss: 0.2709 - learning_rate: 0.0010\n",
            "Restoring model weights from the end of the best epoch: 44.\n",
            "✅ Model training completed!\n"
          ]
        }
      ]
    },
    {
      "cell_type": "code",
      "source": [
        "# =====================================================================\n",
        "# STEP 10: PLOT TRAINING HISTORY\n",
        "# =====================================================================\n",
        "\n",
        "print(\"\\n📊 Step 10: Plotting training history...\")\n",
        "\n",
        "# Create training history plots\n",
        "fig, (ax1, ax2) = plt.subplots(1, 2, figsize=(15, 5))\n",
        "\n",
        "# Plot accuracy\n",
        "ax1.plot(history.history['accuracy'], label='Training Accuracy', linewidth=2)\n",
        "ax1.plot(history.history['val_accuracy'], label='Validation Accuracy', linewidth=2)\n",
        "ax1.set_title('Model Accuracy Over Epochs', fontsize=14, fontweight='bold')\n",
        "ax1.set_xlabel('Epoch')\n",
        "ax1.set_ylabel('Accuracy')\n",
        "ax1.legend()\n",
        "ax1.grid(True, alpha=0.3)\n",
        "\n",
        "# Plot loss\n",
        "ax2.plot(history.history['loss'], label='Training Loss', linewidth=2)\n",
        "ax2.plot(history.history['val_loss'], label='Validation Loss', linewidth=2)\n",
        "ax2.set_title('Model Loss Over Epochs', fontsize=14, fontweight='bold')\n",
        "ax2.set_xlabel('Epoch')\n",
        "ax2.set_ylabel('Loss')\n",
        "ax2.legend()\n",
        "ax2.grid(True, alpha=0.3)\n",
        "\n",
        "plt.tight_layout()\n",
        "plt.show()\n",
        "\n",
        "print(\"✅ Training history plotted!\")"
      ],
      "metadata": {
        "colab": {
          "base_uri": "https://localhost:8080/",
          "height": 351
        },
        "id": "s_A9RFDNdl-p",
        "outputId": "f2a4dd80-96a5-434b-e18b-f154cbc31760"
      },
      "execution_count": 14,
      "outputs": [
        {
          "output_type": "stream",
          "name": "stdout",
          "text": [
            "\n",
            "📊 Step 10: Plotting training history...\n"
          ]
        },
        {
          "output_type": "display_data",
          "data": {
            "text/plain": [
              "<Figure size 1500x500 with 2 Axes>"
            ],
            "image/png": "[encoded data removed]"
          },
          "metadata": {}
        },
        {
          "output_type": "stream",
          "name": "stdout",
          "text": [
            "✅ Training history plotted!\n"
          ]
        }
      ]
    },
    {
      "cell_type": "code",
      "source": [
        "# =====================================================================\n",
        "# STEP 11: EVALUATE ON VALIDATION SET\n",
        "# =====================================================================\n",
        "\n",
        "print(\"\\n🎯 Step 11: Evaluating on validation set...\")\n",
        "\n",
        "# Make predictions on validation set\n",
        "y_val_pred_proba = model.predict(X_val_cnn)\n",
        "y_val_pred = np.argmax(y_val_pred_proba, axis=1)\n",
        "\n",
        "# Calculate metrics\n",
        "val_accuracy = accuracy_score(y_val, y_val_pred)\n",
        "val_precision = precision_score(y_val, y_val_pred, average='macro')\n",
        "val_recall = recall_score(y_val, y_val_pred, average='macro')\n",
        "val_f1_macro = f1_score(y_val, y_val_pred, average='macro')\n",
        "val_f1_weighted = f1_score(y_val, y_val_pred, average='weighted')\n",
        "\n",
        "print(\"📊 VALIDATION SET RESULTS:\")\n",
        "print(\"=\" * 50)\n",
        "print(f\"Accuracy: {val_accuracy:.4f}\")\n",
        "print(f\"Precision (Macro): {val_precision:.4f}\")\n",
        "print(f\"Recall (Macro): {val_recall:.4f}\")\n",
        "print(f\"F1 Score (Macro): {val_f1_macro:.4f}\")\n",
        "print(f\"F1 Score (Weighted): {val_f1_weighted:.4f}\")\n",
        "\n",
        "# Classification report\n",
        "print(f\"\\n📋 Validation Classification Report:\")\n",
        "class_names = label_encoder.classes_\n",
        "print(classification_report(y_val, y_val_pred, target_names=class_names))\n"
      ],
      "metadata": {
        "colab": {
          "base_uri": "https://localhost:8080/"
        },
        "id": "fY_d7RL7dt9E",
        "outputId": "37b7e189-34ae-4245-d5b4-24f6205b3135"
      },
      "execution_count": 15,
      "outputs": [
        {
          "output_type": "stream",
          "name": "stdout",
          "text": [
            "\n",
            "🎯 Step 11: Evaluating on validation set...\n",
            "\u001b[1m24/24\u001b[0m \u001b[32m━━━━━━━━━━━━━━━━━━━━\u001b[0m\u001b[37m\u001b[0m \u001b[1m1s\u001b[0m 13ms/step\n",
            "📊 VALIDATION SET RESULTS:\n",
            "==================================================\n",
            "Accuracy: 0.8841\n",
            "Precision (Macro): 0.8836\n",
            "Recall (Macro): 0.8845\n",
            "F1 Score (Macro): 0.8839\n",
            "F1 Score (Weighted): 0.8836\n",
            "\n",
            "📋 Validation Classification Report:\n",
            "              precision    recall  f1-score   support\n",
            "\n",
            "        high       0.89      0.89      0.89       263\n",
            "         low       0.93      0.95      0.94       250\n",
            "      medium       0.84      0.82      0.83       255\n",
            "\n",
            "    accuracy                           0.88       768\n",
            "   macro avg       0.88      0.88      0.88       768\n",
            "weighted avg       0.88      0.88      0.88       768\n",
            "\n"
          ]
        }
      ]
    },
    {
      "cell_type": "code",
      "source": [
        "\n",
        "\n",
        "# =====================================================================\n",
        "# STEP 12: PLOT VALIDATION CONFUSION MATRIX\n",
        "# =====================================================================\n",
        "\n",
        "print(\"\\n🔍 Step 12: Plotting validation confusion matrix...\")\n",
        "\n",
        "# Create confusion matrix\n",
        "val_cm = confusion_matrix(y_val, y_val_pred)\n",
        "\n",
        "plt.figure(figsize=(8, 6))\n",
        "sns.heatmap(val_cm, annot=True, fmt='d', cmap='Blues',\n",
        "           xticklabels=class_names, yticklabels=class_names)\n",
        "plt.title('Validation Set - Confusion Matrix', fontsize=14, fontweight='bold')\n",
        "plt.xlabel('Predicted')\n",
        "plt.ylabel('Actual')\n",
        "plt.tight_layout()\n",
        "plt.show()\n",
        "\n",
        "print(\"✅ Validation confusion matrix plotted!\")"
      ],
      "metadata": {
        "colab": {
          "base_uri": "https://localhost:8080/",
          "height": 659
        },
        "id": "-rkoBZ78dwZS",
        "outputId": "8068836f-f6cb-49c4-9a28-1449e218c47e"
      },
      "execution_count": 16,
      "outputs": [
        {
          "output_type": "stream",
          "name": "stdout",
          "text": [
            "\n",
            "🔍 Step 12: Plotting validation confusion matrix...\n"
          ]
        },
        {
          "output_type": "display_data",
          "data": {
            "text/plain": [
              "<Figure size 800x600 with 2 Axes>"
            ],
            "image/png": "[encoded data removed]"
          },
          "metadata": {}
        },
        {
          "output_type": "stream",
          "name": "stdout",
          "text": [
            "✅ Validation confusion matrix plotted!\n"
          ]
        }
      ]
    },
    {
      "cell_type": "code",
      "source": [
        "\n",
        "\n",
        "# =====================================================================\n",
        "# STEP 13: EVALUATE ON TEST SET\n",
        "# =====================================================================\n",
        "\n",
        "print(\"\\n🏁 Step 13: Evaluating on test set...\")\n",
        "\n",
        "# Make predictions on test set\n",
        "y_test_pred_proba = model.predict(X_test_cnn)\n",
        "y_test_pred = np.argmax(y_test_pred_proba, axis=1)\n",
        "\n",
        "# Calculate metrics\n",
        "test_accuracy = accuracy_score(y_test, y_test_pred)\n",
        "test_precision = precision_score(y_test, y_test_pred, average='macro')\n",
        "test_recall = recall_score(y_test, y_test_pred, average='macro')\n",
        "test_f1_macro = f1_score(y_test, y_test_pred, average='macro')\n",
        "test_f1_weighted = f1_score(y_test, y_test_pred, average='weighted')\n",
        "\n",
        "print(\"📊 TEST SET RESULTS:\")\n",
        "print(\"=\" * 50)\n",
        "print(f\"Accuracy: {test_accuracy:.4f}\")\n",
        "print(f\"Precision (Macro): {test_precision:.4f}\")\n",
        "print(f\"Recall (Macro): {test_recall:.4f}\")\n",
        "print(f\"F1 Score (Macro): {test_f1_macro:.4f}\")\n",
        "print(f\"F1 Score (Weighted): {test_f1_weighted:.4f}\")\n",
        "\n",
        "# Classification report\n",
        "print(f\"\\n📋 Test Classification Report:\")\n",
        "print(classification_report(y_test, y_test_pred, target_names=class_names))\n"
      ],
      "metadata": {
        "colab": {
          "base_uri": "https://localhost:8080/"
        },
        "id": "W44zVm81dzJ5",
        "outputId": "1d0b98db-62be-425a-95e1-e277487fa8fb"
      },
      "execution_count": 17,
      "outputs": [
        {
          "output_type": "stream",
          "name": "stdout",
          "text": [
            "\n",
            "🏁 Step 13: Evaluating on test set...\n",
            "\u001b[1m24/24\u001b[0m \u001b[32m━━━━━━━━━━━━━━━━━━━━\u001b[0m\u001b[37m\u001b[0m \u001b[1m0s\u001b[0m 15ms/step\n",
            "📊 TEST SET RESULTS:\n",
            "==================================================\n",
            "Accuracy: 0.8919\n",
            "Precision (Macro): 0.8930\n",
            "Recall (Macro): 0.8922\n",
            "F1 Score (Macro): 0.8925\n",
            "F1 Score (Weighted): 0.8922\n",
            "\n",
            "📋 Test Classification Report:\n",
            "              precision    recall  f1-score   support\n",
            "\n",
            "        high       0.91      0.89      0.90       257\n",
            "         low       0.93      0.93      0.93       253\n",
            "      medium       0.83      0.86      0.85       258\n",
            "\n",
            "    accuracy                           0.89       768\n",
            "   macro avg       0.89      0.89      0.89       768\n",
            "weighted avg       0.89      0.89      0.89       768\n",
            "\n"
          ]
        }
      ]
    },
    {
      "cell_type": "code",
      "source": [
        "\n",
        "# =====================================================================\n",
        "# STEP 14: PLOT TEST CONFUSION MATRIX\n",
        "# =====================================================================\n",
        "\n",
        "print(\"\\n🔍 Step 14: Plotting test confusion matrix...\")\n",
        "\n",
        "# Create confusion matrix\n",
        "test_cm = confusion_matrix(y_test, y_test_pred)\n",
        "\n",
        "plt.figure(figsize=(8, 6))\n",
        "sns.heatmap(test_cm, annot=True, fmt='d', cmap='Greens',\n",
        "           xticklabels=class_names, yticklabels=class_names)\n",
        "plt.title('Test Set - Confusion Matrix', fontsize=14, fontweight='bold')\n",
        "plt.xlabel('Predicted')\n",
        "plt.ylabel('Actual')\n",
        "plt.tight_layout()\n",
        "plt.show()\n",
        "\n",
        "print(\"✅ Test confusion matrix plotted!\")"
      ],
      "metadata": {
        "colab": {
          "base_uri": "https://localhost:8080/",
          "height": 659
        },
        "id": "JqJR2-cMd2OT",
        "outputId": "3d663a2d-8d97-4761-f39c-674f39929036"
      },
      "execution_count": 18,
      "outputs": [
        {
          "output_type": "stream",
          "name": "stdout",
          "text": [
            "\n",
            "🔍 Step 14: Plotting test confusion matrix...\n"
          ]
        },
        {
          "output_type": "display_data",
          "data": {
            "text/plain": [
              "<Figure size 800x600 with 2 Axes>"
            ],
            "image/png": "[encoded data removed]"
          },
          "metadata": {}
        },
        {
          "output_type": "stream",
          "name": "stdout",
          "text": [
            "✅ Test confusion matrix plotted!\n"
          ]
        }
      ]
    },
    {
      "cell_type": "code",
      "source": [
        "\n",
        "\n",
        "# =====================================================================\n",
        "# STEP 15: FINAL SUMMARY\n",
        "# =====================================================================\n",
        "\n",
        "print(\"\\n🎉 Step 15: Final Summary\")\n",
        "print(\"=\" * 60)\n",
        "\n",
        "# Create summary table\n",
        "summary_data = {\n",
        "    'Dataset': ['Validation', 'Test'],\n",
        "    'Accuracy': [val_accuracy, test_accuracy],\n",
        "    'Precision (Macro)': [val_precision, test_precision],\n",
        "    'Recall (Macro)': [val_recall, test_recall],\n",
        "    'F1 Score (Macro)': [val_f1_macro, test_f1_macro],\n",
        "    'F1 Score (Weighted)': [val_f1_weighted, test_f1_weighted]\n",
        "}\n",
        "\n",
        "summary_df = pd.DataFrame(summary_data)\n",
        "print(\"📊 FINAL PERFORMANCE SUMMARY:\")\n",
        "print(summary_df.round(4))\n",
        "\n",
        "# Best performing metrics\n",
        "print(f\"\\n🏆 BEST RESULTS:\")\n",
        "print(f\"Highest Accuracy: {max(val_accuracy, test_accuracy):.4f}\")\n",
        "print(f\"Highest Macro F1: {max(val_f1_macro, test_f1_macro):.4f}\")\n",
        "\n",
        "# Model info\n",
        "total_params = model.count_params()\n",
        "print(f\"\\n🔧 MODEL INFO:\")\n",
        "print(f\"Total Parameters: {total_params:,}\")\n",
        "print(f\"Training Epochs: {len(history.history['accuracy'])}\")\n",
        "print(f\"Final Training Accuracy: {history.history['accuracy'][-1]:.4f}\")\n",
        "print(f\"Final Validation Accuracy: {history.history['val_accuracy'][-1]:.4f}\")\n",
        "\n",
        "print(\"\\n✅ PIPELINE COMPLETED SUCCESSFULLY! 🎉\")\n"
      ],
      "metadata": {
        "colab": {
          "base_uri": "https://localhost:8080/"
        },
        "id": "kWcvZkU8d26J",
        "outputId": "8977f03e-62de-4029-bfdf-4ff36d10846d"
      },
      "execution_count": 19,
      "outputs": [
        {
          "output_type": "stream",
          "name": "stdout",
          "text": [
            "\n",
            "🎉 Step 15: Final Summary\n",
            "============================================================\n",
            "📊 FINAL PERFORMANCE SUMMARY:\n",
            "      Dataset  Accuracy  Precision (Macro)  Recall (Macro)  F1 Score (Macro)  \\\n",
            "0  Validation    0.8841             0.8836          0.8845            0.8839   \n",
            "1        Test    0.8919             0.8930          0.8922            0.8925   \n",
            "\n",
            "   F1 Score (Weighted)  \n",
            "0               0.8836  \n",
            "1               0.8922  \n",
            "\n",
            "🏆 BEST RESULTS:\n",
            "Highest Accuracy: 0.8919\n",
            "Highest Macro F1: 0.8925\n",
            "\n",
            "🔧 MODEL INFO:\n",
            "Total Parameters: 1,342,083\n",
            "Training Epochs: 50\n",
            "Final Training Accuracy: 0.8892\n",
            "Final Validation Accuracy: 0.8867\n",
            "\n",
            "✅ PIPELINE COMPLETED SUCCESSFULLY! 🎉\n"
          ]
        }
      ]
    },
    {
      "cell_type": "code",
      "execution_count": 20,
      "metadata": {
        "colab": {
          "base_uri": "https://localhost:8080/"
        },
        "id": "_LA2aWZ6WAqS",
        "outputId": "f91488e3-030d-476f-bf17-930dfb88f979"
      },
      "outputs": [
        {
          "output_type": "stream",
          "name": "stdout",
          "text": [
            "\n",
            "💾 Step 16: Model saving option...\n",
            "\n",
            "🔚 All steps completed successfully!\n",
            "You can now use this trained model for agricultural production classification!\n"
          ]
        }
      ],
      "source": [
        "\n",
        "# =====================================================================\n",
        "# STEP 16: SAVE MODEL (OPTIONAL)\n",
        "# =====================================================================\n",
        "\n",
        "print(\"\\n💾 Step 16: Model saving option...\")\n",
        "\n",
        "# Uncomment the line below to save the model\n",
        "# model.save('agricultural_production_cnn_model.h5')\n",
        "# print(\"✅ Model saved as 'agricultural_production_cnn_model.h5'\")\n",
        "\n",
        "print(\"\\n🔚 All steps completed successfully!\")\n",
        "print(\"You can now use this trained model for agricultural production classification!\")"
      ]
    }
  ]
}