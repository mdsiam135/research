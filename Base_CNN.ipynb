{
  "nbformat": 4,
  "nbformat_minor": 0,
  "metadata": {
    "colab": {
      "provenance": [],
      "mount_file_id": "1iFsssx7jEc6BCIRx79iByWuz3aK6Ax7v",
      "authorship_tag": "ABX9TyN7YX4EFdXq2jNTudyySvuZ",
      "include_colab_link": true
    },
    "kernelspec": {
      "name": "python3",
      "display_name": "Python 3"
    },
    "language_info": {
      "name": "python"
    }
  },
  "cells": [
    {
      "cell_type": "markdown",
      "metadata": {
        "id": "view-in-github",
        "colab_type": "text"
      },
      "source": [
        "<a href=\"https://colab.research.google.com/github/mdsiam135/research/blob/main/Base_CNN.ipynb\" target=\"_parent\"><img src=\"https://colab.research.google.com/assets/colab-badge.svg\" alt=\"Open In Colab\"/></a>"
      ]
    },
    {
      "cell_type": "code",
      "source": [
        "pip install pandas numpy scikit-learn tensorflow"
      ],
      "metadata": {
        "colab": {
          "base_uri": "https://localhost:8080/"
        },
        "id": "7zugE8Y2iN2U",
        "outputId": "ddb6b18e-eefd-434c-b60b-fca092f281b8"
      },
      "execution_count": 30,
      "outputs": [
        {
          "output_type": "stream",
          "name": "stdout",
          "text": [
            "Requirement already satisfied: pandas in /usr/local/lib/python3.11/dist-packages (2.2.2)\n",
            "Requirement already satisfied: numpy in /usr/local/lib/python3.11/dist-packages (2.0.2)\n",
            "Requirement already satisfied: scikit-learn in /usr/local/lib/python3.11/dist-packages (1.6.1)\n",
            "Requirement already satisfied: tensorflow in /usr/local/lib/python3.11/dist-packages (2.18.0)\n",
            "Requirement already satisfied: python-dateutil>=2.8.2 in /usr/local/lib/python3.11/dist-packages (from pandas) (2.9.0.post0)\n",
            "Requirement already satisfied: pytz>=2020.1 in /usr/local/lib/python3.11/dist-packages (from pandas) (2025.2)\n",
            "Requirement already satisfied: tzdata>=2022.7 in /usr/local/lib/python3.11/dist-packages (from pandas) (2025.2)\n",
            "Requirement already satisfied: scipy>=1.6.0 in /usr/local/lib/python3.11/dist-packages (from scikit-learn) (1.15.3)\n",
            "Requirement already satisfied: joblib>=1.2.0 in /usr/local/lib/python3.11/dist-packages (from scikit-learn) (1.5.1)\n",
            "Requirement already satisfied: threadpoolctl>=3.1.0 in /usr/local/lib/python3.11/dist-packages (from scikit-learn) (3.6.0)\n",
            "Requirement already satisfied: absl-py>=1.0.0 in /usr/local/lib/python3.11/dist-packages (from tensorflow) (1.4.0)\n",
            "Requirement already satisfied: astunparse>=1.6.0 in /usr/local/lib/python3.11/dist-packages (from tensorflow) (1.6.3)\n",
            "Requirement already satisfied: flatbuffers>=24.3.25 in /usr/local/lib/python3.11/dist-packages (from tensorflow) (25.2.10)\n",
            "Requirement already satisfied: gast!=0.5.0,!=0.5.1,!=0.5.2,>=0.2.1 in /usr/local/lib/python3.11/dist-packages (from tensorflow) (0.6.0)\n",
            "Requirement already satisfied: google-pasta>=0.1.1 in /usr/local/lib/python3.11/dist-packages (from tensorflow) (0.2.0)\n",
            "Requirement already satisfied: libclang>=13.0.0 in /usr/local/lib/python3.11/dist-packages (from tensorflow) (18.1.1)\n",
            "Requirement already satisfied: opt-einsum>=2.3.2 in /usr/local/lib/python3.11/dist-packages (from tensorflow) (3.4.0)\n",
            "Requirement already satisfied: packaging in /usr/local/lib/python3.11/dist-packages (from tensorflow) (24.2)\n",
            "Requirement already satisfied: protobuf!=4.21.0,!=4.21.1,!=4.21.2,!=4.21.3,!=4.21.4,!=4.21.5,<6.0.0dev,>=3.20.3 in /usr/local/lib/python3.11/dist-packages (from tensorflow) (5.29.5)\n",
            "Requirement already satisfied: requests<3,>=2.21.0 in /usr/local/lib/python3.11/dist-packages (from tensorflow) (2.32.3)\n",
            "Requirement already satisfied: setuptools in /usr/local/lib/python3.11/dist-packages (from tensorflow) (75.2.0)\n",
            "Requirement already satisfied: six>=1.12.0 in /usr/local/lib/python3.11/dist-packages (from tensorflow) (1.17.0)\n",
            "Requirement already satisfied: termcolor>=1.1.0 in /usr/local/lib/python3.11/dist-packages (from tensorflow) (3.1.0)\n",
            "Requirement already satisfied: typing-extensions>=3.6.6 in /usr/local/lib/python3.11/dist-packages (from tensorflow) (4.13.2)\n",
            "Requirement already satisfied: wrapt>=1.11.0 in /usr/local/lib/python3.11/dist-packages (from tensorflow) (1.17.2)\n",
            "Requirement already satisfied: grpcio<2.0,>=1.24.3 in /usr/local/lib/python3.11/dist-packages (from tensorflow) (1.71.0)\n",
            "Requirement already satisfied: tensorboard<2.19,>=2.18 in /usr/local/lib/python3.11/dist-packages (from tensorflow) (2.18.0)\n",
            "Requirement already satisfied: keras>=3.5.0 in /usr/local/lib/python3.11/dist-packages (from tensorflow) (3.8.0)\n",
            "Requirement already satisfied: h5py>=3.11.0 in /usr/local/lib/python3.11/dist-packages (from tensorflow) (3.13.0)\n",
            "Requirement already satisfied: ml-dtypes<0.5.0,>=0.4.0 in /usr/local/lib/python3.11/dist-packages (from tensorflow) (0.4.1)\n",
            "Requirement already satisfied: tensorflow-io-gcs-filesystem>=0.23.1 in /usr/local/lib/python3.11/dist-packages (from tensorflow) (0.37.1)\n",
            "Requirement already satisfied: wheel<1.0,>=0.23.0 in /usr/local/lib/python3.11/dist-packages (from astunparse>=1.6.0->tensorflow) (0.45.1)\n",
            "Requirement already satisfied: rich in /usr/local/lib/python3.11/dist-packages (from keras>=3.5.0->tensorflow) (13.9.4)\n",
            "Requirement already satisfied: namex in /usr/local/lib/python3.11/dist-packages (from keras>=3.5.0->tensorflow) (0.1.0)\n",
            "Requirement already satisfied: optree in /usr/local/lib/python3.11/dist-packages (from keras>=3.5.0->tensorflow) (0.16.0)\n",
            "Requirement already satisfied: charset-normalizer<4,>=2 in /usr/local/lib/python3.11/dist-packages (from requests<3,>=2.21.0->tensorflow) (3.4.2)\n",
            "Requirement already satisfied: idna<4,>=2.5 in /usr/local/lib/python3.11/dist-packages (from requests<3,>=2.21.0->tensorflow) (3.10)\n",
            "Requirement already satisfied: urllib3<3,>=1.21.1 in /usr/local/lib/python3.11/dist-packages (from requests<3,>=2.21.0->tensorflow) (2.4.0)\n",
            "Requirement already satisfied: certifi>=2017.4.17 in /usr/local/lib/python3.11/dist-packages (from requests<3,>=2.21.0->tensorflow) (2025.4.26)\n",
            "Requirement already satisfied: markdown>=2.6.8 in /usr/local/lib/python3.11/dist-packages (from tensorboard<2.19,>=2.18->tensorflow) (3.8)\n",
            "Requirement already satisfied: tensorboard-data-server<0.8.0,>=0.7.0 in /usr/local/lib/python3.11/dist-packages (from tensorboard<2.19,>=2.18->tensorflow) (0.7.2)\n",
            "Requirement already satisfied: werkzeug>=1.0.1 in /usr/local/lib/python3.11/dist-packages (from tensorboard<2.19,>=2.18->tensorflow) (3.1.3)\n",
            "Requirement already satisfied: MarkupSafe>=2.1.1 in /usr/local/lib/python3.11/dist-packages (from werkzeug>=1.0.1->tensorboard<2.19,>=2.18->tensorflow) (3.0.2)\n",
            "Requirement already satisfied: markdown-it-py>=2.2.0 in /usr/local/lib/python3.11/dist-packages (from rich->keras>=3.5.0->tensorflow) (3.0.0)\n",
            "Requirement already satisfied: pygments<3.0.0,>=2.13.0 in /usr/local/lib/python3.11/dist-packages (from rich->keras>=3.5.0->tensorflow) (2.19.1)\n",
            "Requirement already satisfied: mdurl~=0.1 in /usr/local/lib/python3.11/dist-packages (from markdown-it-py>=2.2.0->rich->keras>=3.5.0->tensorflow) (0.1.2)\n"
          ]
        }
      ]
    },
    {
      "cell_type": "code",
      "source": [
        "# -*- coding: utf-8 -*-\n",
        "\"\"\"\n",
        "1D CNN for Tabular Production Classification\n",
        "\n",
        "This script loads tabular data, preprocesses it (including reshaping for CNN),\n",
        " trains a 1D Convolutional Neural Network (CNN),\n",
        "and evaluates its performance using Confusion Matrix and Macro F1 Score.\n",
        "\"\"\"\n",
        "\n",
        "import pandas as pd\n",
        "import numpy as np\n",
        "from sklearn.preprocessing import StandardScaler, LabelEncoder\n",
        "from sklearn.metrics import classification_report, accuracy_score, f1_score, confusion_matrix\n",
        "import tensorflow as tf\n",
        "from tensorflow.keras.models import Sequential\n",
        "from tensorflow.keras.layers import Dense, Dropout, InputLayer, Conv1D, MaxPooling1D, Flatten\n",
        "from tensorflow.keras.utils import to_categorical\n",
        "import matplotlib.pyplot as plt\n",
        "import seaborn as sns\n",
        "import warnings"
      ],
      "metadata": {
        "id": "NtrsFnPTeR3s"
      },
      "execution_count": 31,
      "outputs": []
    },
    {
      "cell_type": "code",
      "source": [
        "# Suppress specific warnings from sklearn\n",
        "warnings.filterwarnings(\"ignore\", category=UserWarning, module='sklearn.metrics._classification')\n",
        "\n",
        "# --- Configuration ---\n",
        "TRAIN_FILE = '/content/drive/MyDrive/Yearbook of Agricultural Statistics/train.csv'\n",
        "VALIDATION_FILE = '/content/drive/MyDrive/Yearbook of Agricultural Statistics/validation.csv'\n",
        "TEST_FILE = '/content/drive/MyDrive/Yearbook of Agricultural Statistics/test.csv'\n",
        "TARGET_COLUMN = 'Production (M.Ton)' # Corrected quotes\n",
        "INITIAL_N_CLASSES = 5 # Desired number of classes for binning\n",
        "CLASS_LABELS = ['very low', 'low', 'medium', 'high', 'very high'] # Corresponding to bins 0-4\n",
        "EPOCHS = 20 # Number of training epochs as requested\n",
        "BATCH_SIZE = 32\n",
        "RANDOM_STATE = 42 # For reproducibility\n",
        "\n",
        "# Set random seeds for reproducibility\n",
        "np.random.seed(RANDOM_STATE)\n",
        "tf.random.set_seed(RANDOM_STATE)"
      ],
      "metadata": {
        "id": "ImOd5SAaeXfj"
      },
      "execution_count": 32,
      "outputs": []
    },
    {
      "cell_type": "code",
      "source": [
        "# --- Data Loading ---\n",
        "def load_data(file_path):\n",
        "    \"\"\"Loads data from a CSV file.\"\"\"\n",
        "    try:\n",
        "        df = pd.read_csv(file_path)\n",
        "        print(f\"Successfully loaded {file_path}. Shape: {df.shape}\")\n",
        "        if TARGET_COLUMN not in df.columns:\n",
        "            raise ValueError(f\"Target column '{TARGET_COLUMN}' not found in {file_path}\") # Corrected quotes\n",
        "        return df\n",
        "    except FileNotFoundError:\n",
        "        print(f\"Error: File not found at {file_path}\")\n",
        "        return None\n",
        "    except Exception as e:\n",
        "        print(f\"Error loading {file_path}: {e}\")\n",
        "        return None\n"
      ],
      "metadata": {
        "id": "sqOaGKeMeauJ"
      },
      "execution_count": 33,
      "outputs": []
    },
    {
      "cell_type": "code",
      "source": [
        "# --- Preprocessing ---\n",
        "def preprocess_data_cnn(df_train, df_val, df_test, n_classes_target):\n",
        "    \"\"\"Preprocesses the training, validation, and test data for 1D CNN.\n",
        "\n",
        "    Returns:\n",
        "        Tuple containing preprocessed data and the actual number of classes used.\n",
        "    \"\"\"\n",
        "    print(\"\\n--- Starting Data Preprocessing for CNN ---\")\n",
        "\n",
        "    X_train = df_train.drop(TARGET_COLUMN, axis=1)\n",
        "    y_train_raw = df_train[TARGET_COLUMN]\n",
        "    X_val = df_val.drop(TARGET_COLUMN, axis=1)\n",
        "    y_val_raw = df_val[TARGET_COLUMN]\n",
        "    X_test = df_test.drop(TARGET_COLUMN, axis=1)\n",
        "    y_test_raw = df_test[TARGET_COLUMN]\n",
        "\n",
        "    train_cols = X_train.columns\n",
        "    X_val = X_val.reindex(columns=train_cols, fill_value=0)\n",
        "    X_test = X_test.reindex(columns=train_cols, fill_value=0)\n",
        "\n",
        "    print(f\"Initial feature shapes: Train={X_train.shape}, Val={X_val.shape}, Test={X_test.shape}\")\n",
        "\n",
        "    actual_n_classes = n_classes_target\n",
        "    print(f\"Attempting to bin target variable '{TARGET_COLUMN}' into {n_classes_target} categories...\") # Corrected quotes\n",
        "    try:\n",
        "        bins = pd.qcut(y_train_raw, q=n_classes_target, labels=False, duplicates='drop')\n",
        "        bin_edges = pd.qcut(y_train_raw, q=n_classes_target, retbins=True, duplicates='drop')[1]\n",
        "        print(f\"Calculated bin edges based on training data: {bin_edges}\")\n",
        "\n",
        "        y_train_binned = pd.cut(y_train_raw, bins=bin_edges, labels=False, include_lowest=True)\n",
        "        y_val_binned = pd.cut(y_val_raw, bins=bin_edges, labels=False, include_lowest=True)\n",
        "        y_test_binned = pd.cut(y_test_raw, bins=bin_edges, labels=False, include_lowest=True)\n",
        "\n",
        "        y_val_binned.fillna(0, inplace=True)\n",
        "        y_test_binned.fillna(0, inplace=True)\n",
        "        y_val_binned = y_val_binned.astype(int)\n",
        "        y_test_binned = y_test_binned.astype(int)\n",
        "\n",
        "        print(\"Target variable distribution after binning (Train):\")\n",
        "        print(y_train_binned.value_counts(normalize=True).sort_index())\n",
        "        actual_n_classes = y_train_binned.nunique()\n",
        "        if actual_n_classes != n_classes_target:\n",
        "            print(f\"Warning: Binning resulted in {actual_n_classes} classes, not the target {n_classes_target}.\")\n",
        "\n",
        "    except ValueError as e:\n",
        "        print(f\"Error during quantile binning: {e}. Falling back to LabelEncoder.\")\n",
        "        encoder = LabelEncoder()\n",
        "        y_train_binned = encoder.fit_transform(y_train_raw)\n",
        "        y_val_binned = encoder.transform(y_val_raw)\n",
        "        y_test_binned = encoder.transform(y_test_raw)\n",
        "        actual_n_classes = len(encoder.classes_)\n",
        "        print(f\"Using LabelEncoder resulted in {actual_n_classes} classes.\")\n",
        "\n",
        "    print(f\"Final number of classes used for encoding: {actual_n_classes}\")\n",
        "\n",
        "    print(\"One-hot encoding target variable...\")\n",
        "    y_train_encoded = to_categorical(y_train_binned, num_classes=actual_n_classes)\n",
        "    y_val_encoded = to_categorical(y_val_binned, num_classes=actual_n_classes)\n",
        "    y_test_encoded = to_categorical(y_test_binned, num_classes=actual_n_classes)\n",
        "\n",
        "    print(\"Scaling numerical features...\")\n",
        "    numerical_cols = X_train.select_dtypes(include=np.number).columns.tolist()\n",
        "    print(f\"Identified {len(numerical_cols)} numerical columns for scaling.\")\n",
        "\n",
        "    scaler = StandardScaler()\n",
        "    X_train_scaled = X_train.copy()\n",
        "    X_val_scaled = X_val.copy()\n",
        "    X_test_scaled = X_test.copy()\n",
        "\n",
        "    X_train_scaled[numerical_cols] = scaler.fit_transform(X_train[numerical_cols])\n",
        "    X_val_scaled[numerical_cols] = scaler.transform(X_val[numerical_cols])\n",
        "    X_test_scaled[numerical_cols] = scaler.transform(X_test[numerical_cols])\n",
        "    print(\"Features scaled using StandardScaler.\")\n",
        "    # Reshape data for 1D CNN: (n_samples, n_features, 1 channel)\n",
        "    print(\"Reshaping features for 1D CNN...\")\n",
        "    X_train_reshaped = X_train_scaled.values.reshape((X_train_scaled.shape[0], X_train_scaled.shape[1], 1))\n",
        "    X_val_reshaped = X_val_scaled.values.reshape((X_val_scaled.shape[0], X_val_scaled.shape[1], 1))\n",
        "    X_test_reshaped = X_test_scaled.values.reshape((X_test_scaled.shape[0], X_test_scaled.shape[1], 1))\n",
        "    print(f\"Reshaped feature shapes: Train={X_train_reshaped.shape}, Val={X_val_reshaped.shape}, Test={X_test_reshaped.shape}\")\n",
        "\n",
        "    print(\"--- Data Preprocessing Finished ---\")\n",
        "    return X_train_reshaped, y_train_encoded, y_train_binned, \\\n",
        "           X_val_reshaped, y_val_encoded, y_val_binned, \\\n",
        "           X_test_reshaped, y_test_encoded, y_test_binned, actual_n_classes\n"
      ],
      "metadata": {
        "id": "l34lKcmIekFD"
      },
      "execution_count": 34,
      "outputs": []
    },
    {
      "cell_type": "code",
      "source": [
        "# --- Model Building ---\n",
        "def build_cnn_model(input_shape, num_classes):\n",
        "    \"\"\"Builds a simple 1D CNN model.\"\"\"\n",
        "    model = Sequential([\n",
        "        InputLayer(input_shape=input_shape), # Shape: (n_features, 1)\n",
        "        Conv1D(filters=32, kernel_size=3, activation='relu', padding='same'), # Corrected quotes\n",
        "        MaxPooling1D(pool_size=2),\n",
        "        Conv1D(filters=64, kernel_size=3, activation='relu', padding='same'), # Corrected quotes\n",
        "        MaxPooling1D(pool_size=2),\n",
        "        Flatten(),\n",
        "        Dense(100, activation='relu'), # Corrected quotes\n",
        "        Dropout(0.5),\n",
        "        Dense(num_classes, activation='softmax') # Output layer, Corrected quotes\n",
        "    ])\n",
        "    model.compile(optimizer='adam', # Corrected quotes\n",
        "                  loss='categorical_crossentropy', # Corrected quotes\n",
        "                  metrics=['accuracy']) # Corrected quotes\n",
        "    print(\"\\n--- Model Summary ---\")\n",
        "    model.summary()\n",
        "    return model\n"
      ],
      "metadata": {
        "id": "_KZ2uhHmevr_"
      },
      "execution_count": 35,
      "outputs": []
    },
    {
      "cell_type": "code",
      "source": [
        "# --- Evaluation Metrics ---\n",
        "def print_cnn_evaluation_metrics(y_true, y_pred_classes, num_classes_actual, class_labels_config, dataset_name=\"Dataset\"):\n",
        "    \"\"\"Calculates and prints Confusion Matrix and Macro F1 Score.\"\"\"\n",
        "    print(f\"\\n--- Evaluation Metrics for {dataset_name} ---\")\n",
        "\n",
        "    macro_f1 = f1_score(y_true, y_pred_classes, average='macro', zero_division=0) # Corrected quotes\n",
        "    print(f\"Macro F1 Score: {macro_f1:.4f}\")\n",
        "\n",
        "    print(\"\\nConfusion Matrix:\")\n",
        "    cm = confusion_matrix(y_true, y_pred_classes)\n",
        "\n",
        "    # Determine labels for the confusion matrix plot\n",
        "    labels_to_use = None\n",
        "    unique_labels_in_data = sorted(np.unique(y_true))\n",
        "    if len(class_labels_config) == num_classes_actual and len(unique_labels_in_data) == num_classes_actual:\n",
        "        labels_to_use = [class_labels_config[i] for i in unique_labels_in_data]\n",
        "    else:\n",
        "        labels_to_use = [str(label) for label in unique_labels_in_data]\n",
        "        print(f\"Warning: Class label mismatch or inconsistency. Using numerical labels for confusion matrix: {labels_to_use}\")\n",
        "\n",
        "\n",
        "\n",
        "    # Optional: Plot confusion matrix (useful in Colab/Jupyter)\n",
        "    try:\n",
        "        plt.figure(figsize=(8, 6))\n",
        "        sns.heatmap(cm, annot=True, fmt=\"d\", cmap=\"Blues\", xticklabels=labels_to_use, yticklabels=labels_to_use)\n",
        "        plt.xlabel('Predicted')\n",
        "        plt.ylabel('True')\n",
        "        plt.title(f'Confusion Matrix - {dataset_name}')\n",
        "        plt.show()\n",
        "    except Exception as e:\n",
        "        print(f\"Could not plot confusion matrix: {e}\")\n",
        "\n",
        "    print(\"-----------------------------------------\")"
      ],
      "metadata": {
        "id": "V7W6_06oewj8"
      },
      "execution_count": 36,
      "outputs": []
    },
    {
      "cell_type": "code",
      "source": [
        "# --- Main Execution ---\n",
        "if __name__ == \"__main__\":\n",
        "    print(\"Starting Production Classification Task with 1D CNN...\")\n",
        "\n",
        "    df_train = load_data(TRAIN_FILE)\n",
        "    df_val = load_data(VALIDATION_FILE)\n",
        "    df_test = load_data(TEST_FILE)\n",
        "\n",
        "    if df_train is None or df_val is None or df_test is None:\n",
        "        print(\"\\nError loading data. Exiting.\")\n",
        "        exit()\n",
        "\n",
        "    X_train_reshaped, y_train_encoded, y_train_binned, \\\n",
        "    X_val_reshaped, y_val_encoded, y_val_binned, \\\n",
        "    X_test_reshaped, y_test_encoded, y_test_binned, actual_n_classes = preprocess_data_cnn(df_train, df_val, df_test, INITIAL_N_CLASSES)\n",
        "\n",
        "    if X_train_reshaped is None:\n",
        "        print(\"\\nError during preprocessing. Exiting.\")\n",
        "        exit()\n"
      ],
      "metadata": {
        "colab": {
          "base_uri": "https://localhost:8080/"
        },
        "id": "hNKlb5lmfTB8",
        "outputId": "d6fe0abf-dcd7-437a-8ba8-a3f9c627e1ad"
      },
      "execution_count": 37,
      "outputs": [
        {
          "output_type": "stream",
          "name": "stdout",
          "text": [
            "Starting Production Classification Task with 1D CNN...\n",
            "Successfully loaded /content/drive/MyDrive/Yearbook of Agricultural Statistics/train.csv. Shape: (3584, 84)\n",
            "Successfully loaded /content/drive/MyDrive/Yearbook of Agricultural Statistics/validation.csv. Shape: (768, 84)\n",
            "Successfully loaded /content/drive/MyDrive/Yearbook of Agricultural Statistics/test.csv. Shape: (768, 84)\n",
            "\n",
            "--- Starting Data Preprocessing for CNN ---\n",
            "Initial feature shapes: Train=(3584, 83), Val=(768, 83), Test=(768, 83)\n",
            "Attempting to bin target variable 'Production (M.Ton)' into 5 categories...\n",
            "Calculated bin edges based on training data: [     0.       550.2     1447.52    3064.522   6362.6   544979.54 ]\n",
            "Target variable distribution after binning (Train):\n",
            "Production (M.Ton)\n",
            "0    0.200056\n",
            "1    0.200056\n",
            "2    0.199777\n",
            "3    0.200056\n",
            "4    0.200056\n",
            "Name: proportion, dtype: float64\n",
            "Final number of classes used for encoding: 5\n",
            "One-hot encoding target variable...\n",
            "Scaling numerical features...\n",
            "Identified 83 numerical columns for scaling.\n",
            "Features scaled using StandardScaler.\n",
            "Reshaping features for 1D CNN...\n",
            "Reshaped feature shapes: Train=(3584, 83, 1), Val=(768, 83, 1), Test=(768, 83, 1)\n",
            "--- Data Preprocessing Finished ---\n"
          ]
        }
      ]
    },
    {
      "cell_type": "code",
      "source": [
        "    # CNN input shape is (num_features, 1 channel)\n",
        "    input_shape_cnn = (X_train_reshaped.shape[1], X_train_reshaped.shape[2])\n",
        "    model = build_cnn_model(input_shape_cnn, actual_n_classes)\n",
        "\n",
        "    print(f\"\\n--- Starting Model Training ({EPOCHS} Epochs) ---\")\n",
        "    history = model.fit(\n",
        "        X_train_reshaped,\n",
        "        y_train_encoded,\n",
        "        epochs=EPOCHS, # Fixed number of epochs\n",
        "        batch_size=BATCH_SIZE,\n",
        "        validation_data=(X_val_reshaped, y_val_encoded),\n",
        "        verbose=1 # Show progress\n",
        "    )\n",
        "    print(\"--- Model Training Finished ---\")"
      ],
      "metadata": {
        "colab": {
          "base_uri": "https://localhost:8080/",
          "height": 1000
        },
        "id": "nNKj8GGSfaWk",
        "outputId": "d2fc7309-9d67-48bc-94d5-50c506c8ecec"
      },
      "execution_count": 38,
      "outputs": [
        {
          "output_type": "stream",
          "name": "stdout",
          "text": [
            "\n",
            "--- Model Summary ---\n"
          ]
        },
        {
          "output_type": "stream",
          "name": "stderr",
          "text": [
            "/usr/local/lib/python3.11/dist-packages/keras/src/layers/core/input_layer.py:27: UserWarning: Argument `input_shape` is deprecated. Use `shape` instead.\n",
            "  warnings.warn(\n"
          ]
        },
        {
          "output_type": "display_data",
          "data": {
            "text/plain": [
              "\u001b[1mModel: \"sequential_3\"\u001b[0m\n"
            ],
            "text/html": [
              "<pre style=\"white-space:pre;overflow-x:auto;line-height:normal;font-family:Menlo,'DejaVu Sans Mono',consolas,'Courier New',monospace\"><span style=\"font-weight: bold\">Model: \"sequential_3\"</span>\n",
              "</pre>\n"
            ]
          },
          "metadata": {}
        },
        {
          "output_type": "display_data",
          "data": {
            "text/plain": [
              "┏━━━━━━━━━━━━━━━━━━━━━━━━━━━━━━━━━┳━━━━━━━━━━━━━━━━━━━━━━━━┳━━━━━━━━━━━━━━━┓\n",
              "┃\u001b[1m \u001b[0m\u001b[1mLayer (type)                   \u001b[0m\u001b[1m \u001b[0m┃\u001b[1m \u001b[0m\u001b[1mOutput Shape          \u001b[0m\u001b[1m \u001b[0m┃\u001b[1m \u001b[0m\u001b[1m      Param #\u001b[0m\u001b[1m \u001b[0m┃\n",
              "┡━━━━━━━━━━━━━━━━━━━━━━━━━━━━━━━━━╇━━━━━━━━━━━━━━━━━━━━━━━━╇━━━━━━━━━━━━━━━┩\n",
              "│ conv1d_6 (\u001b[38;5;33mConv1D\u001b[0m)               │ (\u001b[38;5;45mNone\u001b[0m, \u001b[38;5;34m83\u001b[0m, \u001b[38;5;34m32\u001b[0m)         │           \u001b[38;5;34m128\u001b[0m │\n",
              "├─────────────────────────────────┼────────────────────────┼───────────────┤\n",
              "│ max_pooling1d_6 (\u001b[38;5;33mMaxPooling1D\u001b[0m)  │ (\u001b[38;5;45mNone\u001b[0m, \u001b[38;5;34m41\u001b[0m, \u001b[38;5;34m32\u001b[0m)         │             \u001b[38;5;34m0\u001b[0m │\n",
              "├─────────────────────────────────┼────────────────────────┼───────────────┤\n",
              "│ conv1d_7 (\u001b[38;5;33mConv1D\u001b[0m)               │ (\u001b[38;5;45mNone\u001b[0m, \u001b[38;5;34m41\u001b[0m, \u001b[38;5;34m64\u001b[0m)         │         \u001b[38;5;34m6,208\u001b[0m │\n",
              "├─────────────────────────────────┼────────────────────────┼───────────────┤\n",
              "│ max_pooling1d_7 (\u001b[38;5;33mMaxPooling1D\u001b[0m)  │ (\u001b[38;5;45mNone\u001b[0m, \u001b[38;5;34m20\u001b[0m, \u001b[38;5;34m64\u001b[0m)         │             \u001b[38;5;34m0\u001b[0m │\n",
              "├─────────────────────────────────┼────────────────────────┼───────────────┤\n",
              "│ flatten_3 (\u001b[38;5;33mFlatten\u001b[0m)             │ (\u001b[38;5;45mNone\u001b[0m, \u001b[38;5;34m1280\u001b[0m)           │             \u001b[38;5;34m0\u001b[0m │\n",
              "├─────────────────────────────────┼────────────────────────┼───────────────┤\n",
              "│ dense_6 (\u001b[38;5;33mDense\u001b[0m)                 │ (\u001b[38;5;45mNone\u001b[0m, \u001b[38;5;34m100\u001b[0m)            │       \u001b[38;5;34m128,100\u001b[0m │\n",
              "├─────────────────────────────────┼────────────────────────┼───────────────┤\n",
              "│ dropout_3 (\u001b[38;5;33mDropout\u001b[0m)             │ (\u001b[38;5;45mNone\u001b[0m, \u001b[38;5;34m100\u001b[0m)            │             \u001b[38;5;34m0\u001b[0m │\n",
              "├─────────────────────────────────┼────────────────────────┼───────────────┤\n",
              "│ dense_7 (\u001b[38;5;33mDense\u001b[0m)                 │ (\u001b[38;5;45mNone\u001b[0m, \u001b[38;5;34m5\u001b[0m)              │           \u001b[38;5;34m505\u001b[0m │\n",
              "└─────────────────────────────────┴────────────────────────┴───────────────┘\n"
            ],
            "text/html": [
              "<pre style=\"white-space:pre;overflow-x:auto;line-height:normal;font-family:Menlo,'DejaVu Sans Mono',consolas,'Courier New',monospace\">┏━━━━━━━━━━━━━━━━━━━━━━━━━━━━━━━━━┳━━━━━━━━━━━━━━━━━━━━━━━━┳━━━━━━━━━━━━━━━┓\n",
              "┃<span style=\"font-weight: bold\"> Layer (type)                    </span>┃<span style=\"font-weight: bold\"> Output Shape           </span>┃<span style=\"font-weight: bold\">       Param # </span>┃\n",
              "┡━━━━━━━━━━━━━━━━━━━━━━━━━━━━━━━━━╇━━━━━━━━━━━━━━━━━━━━━━━━╇━━━━━━━━━━━━━━━┩\n",
              "│ conv1d_6 (<span style=\"color: #0087ff; text-decoration-color: #0087ff\">Conv1D</span>)               │ (<span style=\"color: #00d7ff; text-decoration-color: #00d7ff\">None</span>, <span style=\"color: #00af00; text-decoration-color: #00af00\">83</span>, <span style=\"color: #00af00; text-decoration-color: #00af00\">32</span>)         │           <span style=\"color: #00af00; text-decoration-color: #00af00\">128</span> │\n",
              "├─────────────────────────────────┼────────────────────────┼───────────────┤\n",
              "│ max_pooling1d_6 (<span style=\"color: #0087ff; text-decoration-color: #0087ff\">MaxPooling1D</span>)  │ (<span style=\"color: #00d7ff; text-decoration-color: #00d7ff\">None</span>, <span style=\"color: #00af00; text-decoration-color: #00af00\">41</span>, <span style=\"color: #00af00; text-decoration-color: #00af00\">32</span>)         │             <span style=\"color: #00af00; text-decoration-color: #00af00\">0</span> │\n",
              "├─────────────────────────────────┼────────────────────────┼───────────────┤\n",
              "│ conv1d_7 (<span style=\"color: #0087ff; text-decoration-color: #0087ff\">Conv1D</span>)               │ (<span style=\"color: #00d7ff; text-decoration-color: #00d7ff\">None</span>, <span style=\"color: #00af00; text-decoration-color: #00af00\">41</span>, <span style=\"color: #00af00; text-decoration-color: #00af00\">64</span>)         │         <span style=\"color: #00af00; text-decoration-color: #00af00\">6,208</span> │\n",
              "├─────────────────────────────────┼────────────────────────┼───────────────┤\n",
              "│ max_pooling1d_7 (<span style=\"color: #0087ff; text-decoration-color: #0087ff\">MaxPooling1D</span>)  │ (<span style=\"color: #00d7ff; text-decoration-color: #00d7ff\">None</span>, <span style=\"color: #00af00; text-decoration-color: #00af00\">20</span>, <span style=\"color: #00af00; text-decoration-color: #00af00\">64</span>)         │             <span style=\"color: #00af00; text-decoration-color: #00af00\">0</span> │\n",
              "├─────────────────────────────────┼────────────────────────┼───────────────┤\n",
              "│ flatten_3 (<span style=\"color: #0087ff; text-decoration-color: #0087ff\">Flatten</span>)             │ (<span style=\"color: #00d7ff; text-decoration-color: #00d7ff\">None</span>, <span style=\"color: #00af00; text-decoration-color: #00af00\">1280</span>)           │             <span style=\"color: #00af00; text-decoration-color: #00af00\">0</span> │\n",
              "├─────────────────────────────────┼────────────────────────┼───────────────┤\n",
              "│ dense_6 (<span style=\"color: #0087ff; text-decoration-color: #0087ff\">Dense</span>)                 │ (<span style=\"color: #00d7ff; text-decoration-color: #00d7ff\">None</span>, <span style=\"color: #00af00; text-decoration-color: #00af00\">100</span>)            │       <span style=\"color: #00af00; text-decoration-color: #00af00\">128,100</span> │\n",
              "├─────────────────────────────────┼────────────────────────┼───────────────┤\n",
              "│ dropout_3 (<span style=\"color: #0087ff; text-decoration-color: #0087ff\">Dropout</span>)             │ (<span style=\"color: #00d7ff; text-decoration-color: #00d7ff\">None</span>, <span style=\"color: #00af00; text-decoration-color: #00af00\">100</span>)            │             <span style=\"color: #00af00; text-decoration-color: #00af00\">0</span> │\n",
              "├─────────────────────────────────┼────────────────────────┼───────────────┤\n",
              "│ dense_7 (<span style=\"color: #0087ff; text-decoration-color: #0087ff\">Dense</span>)                 │ (<span style=\"color: #00d7ff; text-decoration-color: #00d7ff\">None</span>, <span style=\"color: #00af00; text-decoration-color: #00af00\">5</span>)              │           <span style=\"color: #00af00; text-decoration-color: #00af00\">505</span> │\n",
              "└─────────────────────────────────┴────────────────────────┴───────────────┘\n",
              "</pre>\n"
            ]
          },
          "metadata": {}
        },
        {
          "output_type": "display_data",
          "data": {
            "text/plain": [
              "\u001b[1m Total params: \u001b[0m\u001b[38;5;34m134,941\u001b[0m (527.11 KB)\n"
            ],
            "text/html": [
              "<pre style=\"white-space:pre;overflow-x:auto;line-height:normal;font-family:Menlo,'DejaVu Sans Mono',consolas,'Courier New',monospace\"><span style=\"font-weight: bold\"> Total params: </span><span style=\"color: #00af00; text-decoration-color: #00af00\">134,941</span> (527.11 KB)\n",
              "</pre>\n"
            ]
          },
          "metadata": {}
        },
        {
          "output_type": "display_data",
          "data": {
            "text/plain": [
              "\u001b[1m Trainable params: \u001b[0m\u001b[38;5;34m134,941\u001b[0m (527.11 KB)\n"
            ],
            "text/html": [
              "<pre style=\"white-space:pre;overflow-x:auto;line-height:normal;font-family:Menlo,'DejaVu Sans Mono',consolas,'Courier New',monospace\"><span style=\"font-weight: bold\"> Trainable params: </span><span style=\"color: #00af00; text-decoration-color: #00af00\">134,941</span> (527.11 KB)\n",
              "</pre>\n"
            ]
          },
          "metadata": {}
        },
        {
          "output_type": "display_data",
          "data": {
            "text/plain": [
              "\u001b[1m Non-trainable params: \u001b[0m\u001b[38;5;34m0\u001b[0m (0.00 B)\n"
            ],
            "text/html": [
              "<pre style=\"white-space:pre;overflow-x:auto;line-height:normal;font-family:Menlo,'DejaVu Sans Mono',consolas,'Courier New',monospace\"><span style=\"font-weight: bold\"> Non-trainable params: </span><span style=\"color: #00af00; text-decoration-color: #00af00\">0</span> (0.00 B)\n",
              "</pre>\n"
            ]
          },
          "metadata": {}
        },
        {
          "output_type": "stream",
          "name": "stdout",
          "text": [
            "\n",
            "--- Starting Model Training (20 Epochs) ---\n",
            "Epoch 1/20\n",
            "\u001b[1m112/112\u001b[0m \u001b[32m━━━━━━━━━━━━━━━━━━━━\u001b[0m\u001b[37m\u001b[0m \u001b[1m9s\u001b[0m 24ms/step - accuracy: 0.3125 - loss: 1.5379 - val_accuracy: 0.5052 - val_loss: 1.2249\n",
            "Epoch 2/20\n",
            "\u001b[1m112/112\u001b[0m \u001b[32m━━━━━━━━━━━━━━━━━━━━\u001b[0m\u001b[37m\u001b[0m \u001b[1m6s\u001b[0m 29ms/step - accuracy: 0.4923 - loss: 1.2159 - val_accuracy: 0.5885 - val_loss: 1.0415\n",
            "Epoch 3/20\n",
            "\u001b[1m112/112\u001b[0m \u001b[32m━━━━━━━━━━━━━━━━━━━━\u001b[0m\u001b[37m\u001b[0m \u001b[1m2s\u001b[0m 22ms/step - accuracy: 0.5569 - loss: 1.0724 - val_accuracy: 0.6302 - val_loss: 0.9401\n",
            "Epoch 4/20\n",
            "\u001b[1m112/112\u001b[0m \u001b[32m━━━━━━━━━━━━━━━━━━━━\u001b[0m\u001b[37m\u001b[0m \u001b[1m3s\u001b[0m 22ms/step - accuracy: 0.6066 - loss: 0.9642 - val_accuracy: 0.6719 - val_loss: 0.8541\n",
            "Epoch 5/20\n",
            "\u001b[1m112/112\u001b[0m \u001b[32m━━━━━━━━━━━━━━━━━━━━\u001b[0m\u001b[37m\u001b[0m \u001b[1m3s\u001b[0m 22ms/step - accuracy: 0.6455 - loss: 0.8837 - val_accuracy: 0.7018 - val_loss: 0.7758\n",
            "Epoch 6/20\n",
            "\u001b[1m112/112\u001b[0m \u001b[32m━━━━━━━━━━━━━━━━━━━━\u001b[0m\u001b[37m\u001b[0m \u001b[1m2s\u001b[0m 20ms/step - accuracy: 0.6574 - loss: 0.8168 - val_accuracy: 0.7318 - val_loss: 0.7408\n",
            "Epoch 7/20\n",
            "\u001b[1m112/112\u001b[0m \u001b[32m━━━━━━━━━━━━━━━━━━━━\u001b[0m\u001b[37m\u001b[0m \u001b[1m3s\u001b[0m 21ms/step - accuracy: 0.6962 - loss: 0.7496 - val_accuracy: 0.7617 - val_loss: 0.6760\n",
            "Epoch 8/20\n",
            "\u001b[1m112/112\u001b[0m \u001b[32m━━━━━━━━━━━━━━━━━━━━\u001b[0m\u001b[37m\u001b[0m \u001b[1m2s\u001b[0m 17ms/step - accuracy: 0.7188 - loss: 0.7171 - val_accuracy: 0.7799 - val_loss: 0.6461\n",
            "Epoch 9/20\n",
            "\u001b[1m112/112\u001b[0m \u001b[32m━━━━━━━━━━━━━━━━━━━━\u001b[0m\u001b[37m\u001b[0m \u001b[1m2s\u001b[0m 10ms/step - accuracy: 0.7183 - loss: 0.6981 - val_accuracy: 0.7812 - val_loss: 0.6246\n",
            "Epoch 10/20\n",
            "\u001b[1m112/112\u001b[0m \u001b[32m━━━━━━━━━━━━━━━━━━━━\u001b[0m\u001b[37m\u001b[0m \u001b[1m1s\u001b[0m 10ms/step - accuracy: 0.7417 - loss: 0.6426 - val_accuracy: 0.8060 - val_loss: 0.5994\n",
            "Epoch 11/20\n",
            "\u001b[1m112/112\u001b[0m \u001b[32m━━━━━━━━━━━━━━━━━━━━\u001b[0m\u001b[37m\u001b[0m \u001b[1m1s\u001b[0m 11ms/step - accuracy: 0.7578 - loss: 0.6359 - val_accuracy: 0.8047 - val_loss: 0.5968\n",
            "Epoch 12/20\n",
            "\u001b[1m112/112\u001b[0m \u001b[32m━━━━━━━━━━━━━━━━━━━━\u001b[0m\u001b[37m\u001b[0m \u001b[1m1s\u001b[0m 11ms/step - accuracy: 0.7666 - loss: 0.6000 - val_accuracy: 0.8021 - val_loss: 0.5864\n",
            "Epoch 13/20\n",
            "\u001b[1m112/112\u001b[0m \u001b[32m━━━━━━━━━━━━━━━━━━━━\u001b[0m\u001b[37m\u001b[0m \u001b[1m1s\u001b[0m 11ms/step - accuracy: 0.7689 - loss: 0.5981 - val_accuracy: 0.8216 - val_loss: 0.5659\n",
            "Epoch 14/20\n",
            "\u001b[1m112/112\u001b[0m \u001b[32m━━━━━━━━━━━━━━━━━━━━\u001b[0m\u001b[37m\u001b[0m \u001b[1m1s\u001b[0m 10ms/step - accuracy: 0.7725 - loss: 0.5774 - val_accuracy: 0.8138 - val_loss: 0.5367\n",
            "Epoch 15/20\n",
            "\u001b[1m112/112\u001b[0m \u001b[32m━━━━━━━━━━━━━━━━━━━━\u001b[0m\u001b[37m\u001b[0m \u001b[1m1s\u001b[0m 10ms/step - accuracy: 0.7780 - loss: 0.5423 - val_accuracy: 0.8151 - val_loss: 0.5277\n",
            "Epoch 16/20\n",
            "\u001b[1m112/112\u001b[0m \u001b[32m━━━━━━━━━━━━━━━━━━━━\u001b[0m\u001b[37m\u001b[0m \u001b[1m1s\u001b[0m 10ms/step - accuracy: 0.7965 - loss: 0.5152 - val_accuracy: 0.8164 - val_loss: 0.5065\n",
            "Epoch 17/20\n",
            "\u001b[1m112/112\u001b[0m \u001b[32m━━━━━━━━━━━━━━━━━━━━\u001b[0m\u001b[37m\u001b[0m \u001b[1m2s\u001b[0m 18ms/step - accuracy: 0.7987 - loss: 0.5346 - val_accuracy: 0.8203 - val_loss: 0.5049\n",
            "Epoch 18/20\n",
            "\u001b[1m112/112\u001b[0m \u001b[32m━━━━━━━━━━━━━━━━━━━━\u001b[0m\u001b[37m\u001b[0m \u001b[1m2s\u001b[0m 17ms/step - accuracy: 0.7859 - loss: 0.5227 - val_accuracy: 0.8255 - val_loss: 0.5001\n",
            "Epoch 19/20\n",
            "\u001b[1m112/112\u001b[0m \u001b[32m━━━━━━━━━━━━━━━━━━━━\u001b[0m\u001b[37m\u001b[0m \u001b[1m1s\u001b[0m 10ms/step - accuracy: 0.8115 - loss: 0.4837 - val_accuracy: 0.8359 - val_loss: 0.4926\n",
            "Epoch 20/20\n",
            "\u001b[1m112/112\u001b[0m \u001b[32m━━━━━━━━━━━━━━━━━━━━\u001b[0m\u001b[37m\u001b[0m \u001b[1m1s\u001b[0m 10ms/step - accuracy: 0.8048 - loss: 0.4886 - val_accuracy: 0.8294 - val_loss: 0.4991\n",
            "--- Model Training Finished ---\n"
          ]
        }
      ]
    },
    {
      "cell_type": "code",
      "execution_count": 39,
      "metadata": {
        "colab": {
          "base_uri": "https://localhost:8080/",
          "height": 1000
        },
        "id": "1NG4dVMirsDz",
        "outputId": "0cec04f1-34ba-45ed-a61a-8720a812f6bb"
      },
      "outputs": [
        {
          "output_type": "stream",
          "name": "stdout",
          "text": [
            "\n",
            "Evaluating on Validation Set...\n",
            "Validation Loss: 0.4991, Validation Accuracy: 0.8294\n",
            "\u001b[1m24/24\u001b[0m \u001b[32m━━━━━━━━━━━━━━━━━━━━\u001b[0m\u001b[37m\u001b[0m \u001b[1m0s\u001b[0m 5ms/step\n",
            "\n",
            "--- Evaluation Metrics for Validation Set ---\n",
            "Macro F1 Score: 0.8281\n",
            "\n",
            "Confusion Matrix:\n"
          ]
        },
        {
          "output_type": "display_data",
          "data": {
            "text/plain": [
              "<Figure size 800x600 with 2 Axes>"
            ],
            "image/png": "[encoded data removed]"
          },
          "metadata": {}
        },
        {
          "output_type": "stream",
          "name": "stdout",
          "text": [
            "-----------------------------------------\n",
            "\n",
            "Evaluating on Test Set...\n",
            "Test Loss: 0.5426, Test Accuracy: 0.8060\n",
            "\u001b[1m24/24\u001b[0m \u001b[32m━━━━━━━━━━━━━━━━━━━━\u001b[0m\u001b[37m\u001b[0m \u001b[1m0s\u001b[0m 4ms/step\n",
            "\n",
            "--- Evaluation Metrics for Test Set ---\n",
            "Macro F1 Score: 0.8035\n",
            "\n",
            "Confusion Matrix:\n"
          ]
        },
        {
          "output_type": "display_data",
          "data": {
            "text/plain": [
              "<Figure size 800x600 with 2 Axes>"
            ],
            "image/png": "[encoded data removed]"
          },
          "metadata": {}
        },
        {
          "output_type": "stream",
          "name": "stdout",
          "text": [
            "-----------------------------------------\n",
            "\n",
            "Production Classification Task Completed.\n"
          ]
        }
      ],
      "source": [
        "\n",
        "\n",
        "    # Validation Set Evaluation\n",
        "    print(\"\\nEvaluating on Validation Set...\")\n",
        "    val_loss, val_accuracy = model.evaluate(X_val_reshaped, y_val_encoded, verbose=0)\n",
        "    print(f\"Validation Loss: {val_loss:.4f}, Validation Accuracy: {val_accuracy:.4f}\")\n",
        "    y_val_pred_probs = model.predict(X_val_reshaped)\n",
        "    y_val_pred_classes = np.argmax(y_val_pred_probs, axis=1)\n",
        "    print_cnn_evaluation_metrics(y_val_binned, y_val_pred_classes, actual_n_classes, CLASS_LABELS, dataset_name=\"Validation Set\")\n",
        "\n",
        "    # Test Set Evaluation\n",
        "    print(\"\\nEvaluating on Test Set...\")\n",
        "    test_loss, test_accuracy = model.evaluate(X_test_reshaped, y_test_encoded, verbose=0)\n",
        "    print(f\"Test Loss: {test_loss:.4f}, Test Accuracy: {test_accuracy:.4f}\")\n",
        "    y_test_pred_probs = model.predict(X_test_reshaped)\n",
        "    y_test_pred_classes = np.argmax(y_test_pred_probs, axis=1)\n",
        "    print_cnn_evaluation_metrics(y_test_binned, y_test_pred_classes, actual_n_classes, CLASS_LABELS, dataset_name=\"Test Set\")\n",
        "\n",
        "    print(\"\\nProduction Classification Task Completed.\")\n",
        "\n"
      ]
    }
  ]
}