{
  "nbformat": 4,
  "nbformat_minor": 0,
  "metadata": {
    "colab": {
      "provenance": []
    },
    "kernelspec": {
      "name": "python3",
      "display_name": "Python 3"
    },
    "language_info": {
      "name": "python"
    }
  },
  "cells": [
    {
      "cell_type": "code",
      "execution_count": 3,
      "metadata": {
        "id": "vJdKIAfmb9h-"
      },
      "outputs": [],
      "source": [
        "#!/usr/bin/env python3\n",
        "import pandas as pd\n",
        "import numpy as np"
      ]
    },
    {
      "cell_type": "code",
      "source": [
        "# --- Configuration ---\n",
        "# IMPORTANT: Make sure this path is correct for your environment!\n",
        "file_path = \"/content/train1.csv\"\n",
        "target_col = \"Production (M.Ton)\"\n",
        "labels = [\"Very Low\", \"Low\", \"Medium\", \"High\", \"Very High\"]\n",
        "num_bins = 5"
      ],
      "metadata": {
        "id": "LC83aGLXQRpj"
      },
      "execution_count": 4,
      "outputs": []
    },
    {
      "cell_type": "code",
      "source": [
        "# --- Load Data ---\n",
        "print(f\"Loading dataset from {file_path}...\")\n",
        "try:\n",
        "    df = pd.read_csv(file_path)\n",
        "except FileNotFoundError:\n",
        "    print(f\"Error: File not found at {file_path}\")\n",
        "    exit()\n",
        "except Exception as e:\n",
        "    print(f\"Error loading dataset: {e}\")\n",
        "    exit()\n",
        "print(\"Dataset loaded successfully.\")"
      ],
      "metadata": {
        "colab": {
          "base_uri": "https://localhost:8080/"
        },
        "id": "BWZAZ8NkQV7C",
        "outputId": "cf87b483-d4e8-440b-99df-521530962dc0"
      },
      "execution_count": 5,
      "outputs": [
        {
          "output_type": "stream",
          "name": "stdout",
          "text": [
            "Loading dataset from /content/train1.csv...\n",
            "Dataset loaded successfully.\n"
          ]
        }
      ]
    },
    {
      "cell_type": "code",
      "source": [
        "# --- Step 1: Calculate Quantile Bin Edges ---\n",
        "print(\"\\nCalculating quantile-based bin edges...\")\n",
        "try:\n",
        "    # Use duplicates=\\'drop\\' to handle non-unique edges, might result in fewer bins\n",
        "    df[\"temp_bins\"], bin_edges = pd.qcut(df[target_col], q=num_bins, labels=False, retbins=True, duplicates=\"drop\")\n",
        "    actual_bins = df[\"temp_bins\"].nunique()\n",
        "    if actual_bins != num_bins:\n",
        "        print(f\"Warning: Could only create {actual_bins} bins instead of {num_bins} due to data distribution.\")\n",
        "        # Adjust labels list if fewer bins were created\n",
        "        labels = labels[:actual_bins]\n",
        "    else:\n",
        "        print(f\"Successfully determined {num_bins} quantile-based bins.\")\n",
        "\n",
        "    # Ensure the lowest edge is the minimum value and highest edge is the maximum value\n",
        "    min_val = df[target_col].min()\n",
        "    max_val = df[target_col].max()\n",
        "    bin_edges[0] = min_val\n",
        "    bin_edges[-1] = max_val\n",
        "\n",
        "except ValueError as e:\n",
        "    print(f\"Error calculating quantiles: {e}\")\n",
        "    print(\"Cannot proceed without valid bin edges.\")\n",
        "    exit()\n",
        "except Exception as e:\n",
        "    print(f\"An unexpected error occurred during bin calculation: {e}\")\n",
        "    exit()"
      ],
      "metadata": {
        "colab": {
          "base_uri": "https://localhost:8080/"
        },
        "id": "uTlpUpjHQWzR",
        "outputId": "1fb56395-ae1b-4c1b-e003-5f331b714800"
      },
      "execution_count": 6,
      "outputs": [
        {
          "output_type": "stream",
          "name": "stdout",
          "text": [
            "\n",
            "Calculating quantile-based bin edges...\n",
            "Successfully determined 5 quantile-based bins.\n"
          ]
        }
      ]
    },
    {
      "cell_type": "code",
      "source": [
        "# --- Step 2: Print the Calculated Ranges ---\n",
        "print(\"\\n--- Suggested Production Ranges based on Quantiles --- \")\n",
        "calculated_ranges_info = []\n",
        "for i in range(len(bin_edges) - 1):\n",
        "    lower_bound = bin_edges[i]\n",
        "    upper_bound = bin_edges[i+1]\n",
        "    label = labels[i]\n",
        "    # Format the range string\n",
        "    if i == 0:\n",
        "        range_str = f\"[{lower_bound:.2f} - {upper_bound:.2f}]\"\n",
        "    else:\n",
        "        range_str = f\"({lower_bound:.2f} - {upper_bound:.2f}]\"\n",
        "    print(f\"- {label}: {range_str}\")\n",
        "    calculated_ranges_info.append(range_str) # Store for potential later use\n"
      ],
      "metadata": {
        "colab": {
          "base_uri": "https://localhost:8080/"
        },
        "id": "2uAoggkeQau6",
        "outputId": "57a866d8-01ba-4c2d-9f61-82410a495b07"
      },
      "execution_count": 7,
      "outputs": [
        {
          "output_type": "stream",
          "name": "stdout",
          "text": [
            "\n",
            "--- Suggested Production Ranges based on Quantiles --- \n",
            "- Very Low: [0.00 - 545.38]\n",
            "- Low: (545.38 - 1452.00]\n",
            "- Medium: (1452.00 - 3050.00]\n",
            "- High: (3050.00 - 6447.40]\n",
            "- Very High: (6447.40 - 544979.54]\n"
          ]
        }
      ]
    },
    {
      "cell_type": "code",
      "source": [
        "# --- Step 3: Apply Binning Using Calculated Edges ---\n",
        "print(\"\\nApplying calculated bins to the data...\")\n",
        "df[\"Production_Category\"] = pd.cut(df[target_col], bins=bin_edges, labels=labels, include_lowest=True, right=True)\n"
      ],
      "metadata": {
        "colab": {
          "base_uri": "https://localhost:8080/"
        },
        "id": "TGEeS90LQdcJ",
        "outputId": "a67e6b75-acbc-4b59-a501-c65770f1bc27"
      },
      "execution_count": 8,
      "outputs": [
        {
          "output_type": "stream",
          "name": "stdout",
          "text": [
            "\n",
            "Applying calculated bins to the data...\n"
          ]
        }
      ]
    },
    {
      "cell_type": "code",
      "source": [
        "# --- Step 4: Calculate and Print Counts per Category ---\n",
        "print(\"Calculating counts per category...\")\n",
        "category_counts = df[\"Production_Category\"].value_counts().sort_index() # sort_index to keep the order\n",
        "\n",
        "print(\"\\n--- Counts per Production Category --- \")\n",
        "print(category_counts)\n",
        "\n",
        "print(\"\\nScript finished.\")\n",
        "\n"
      ],
      "metadata": {
        "colab": {
          "base_uri": "https://localhost:8080/"
        },
        "id": "kG4s-ZvvOyID",
        "outputId": "182d97bd-c75d-4c6d-c6ce-dc4b4a32b692"
      },
      "execution_count": 12,
      "outputs": [
        {
          "output_type": "stream",
          "name": "stdout",
          "text": [
            "Calculating counts per category...\n",
            "\n",
            "--- Counts per Production Category --- \n",
            "Production_Category\n",
            "Very Low     1024\n",
            "Low          1025\n",
            "Medium       1024\n",
            "High         1023\n",
            "Very High    1024\n",
            "Name: count, dtype: int64\n",
            "\n",
            "Script finished.\n"
          ]
        }
      ]
    }
  ]
}