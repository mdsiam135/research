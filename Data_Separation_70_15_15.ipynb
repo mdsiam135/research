{
  "nbformat": 4,
  "nbformat_minor": 0,
  "metadata": {
    "colab": {
      "provenance": [],
      "mount_file_id": "1OCG2Q1gkGxGG5f0zOaYMYCzG9TNYEKg9",
      "authorship_tag": "ABX9TyMY3F4fda2+JswArGpFf6rB",
      "include_colab_link": true
    },
    "kernelspec": {
      "name": "python3",
      "display_name": "Python 3"
    },
    "language_info": {
      "name": "python"
    }
  },
  "cells": [
    {
      "cell_type": "markdown",
      "metadata": {
        "id": "view-in-github",
        "colab_type": "text"
      },
      "source": [
        "<a href=\"https://colab.research.google.com/github/mdsiam135/research/blob/main/Data_Separation_70_15_15.ipynb\" target=\"_parent\"><img src=\"https://colab.research.google.com/assets/colab-badge.svg\" alt=\"Open In Colab\"/></a>"
      ]
    },
    {
      "cell_type": "code",
      "execution_count": 2,
      "metadata": {
        "id": "45IjkgY4h51E",
        "colab": {
          "base_uri": "https://localhost:8080/"
        },
        "outputId": "8698ae56-413e-4611-a1c1-d653ee5e58eb"
      },
      "outputs": [
        {
          "output_type": "stream",
          "name": "stdout",
          "text": [
            "Data split complete:\n",
            "Training set: 3584 rows\n",
            "Validation set: 768 rows\n",
            "Testing set: 768 rows\n"
          ]
        }
      ],
      "source": [
        "import pandas as pd\n",
        "from sklearn.model_selection import train_test_split\n",
        "\n",
        "# Load your CSV file\n",
        "data = pd.read_csv('/content/drive/MyDrive/Yearbook of Agricultural Statistics/train2.csv')\n",
        "\n",
        "# Step 1: Split data into 70% training and 30% temp (val + test)\n",
        "train_data, temp_data = train_test_split(data, test_size=0.30, random_state=42)\n",
        "\n",
        "# Step 2: Split temp data into 50% validation and 50% test (which is 15% each of original)\n",
        "val_data, test_data = train_test_split(temp_data, test_size=0.50, random_state=42)\n",
        "\n",
        "# Optional: Save the splits into new CSV files\n",
        "train_data.to_csv('train.csv', index=False)\n",
        "val_data.to_csv('validation.csv', index=False)\n",
        "test_data.to_csv('test.csv', index=False)\n",
        "\n",
        "print(\"Data split complete:\")\n",
        "print(f\"Training set: {len(train_data)} rows\")\n",
        "print(f\"Validation set: {len(val_data)} rows\")\n",
        "print(f\"Testing set: {len(test_data)} rows\")\n"
      ]
    },
    {
      "cell_type": "code",
      "source": [],
      "metadata": {
        "id": "x6XDMNbqh6wM"
      },
      "execution_count": null,
      "outputs": []
    }
  ]
}