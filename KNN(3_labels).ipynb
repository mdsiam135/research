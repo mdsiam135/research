{
  "nbformat": 4,
  "nbformat_minor": 0,
  "metadata": {
    "colab": {
      "provenance": [],
      "mount_file_id": "1aO6ZD4orr1AUqNIWmoiUxUdrkWpruHma",
      "authorship_tag": "ABX9TyNVhVoMmAunKJkS6i4eUgHN",
      "include_colab_link": true
    },
    "kernelspec": {
      "name": "python3",
      "display_name": "Python 3"
    },
    "language_info": {
      "name": "python"
    }
  },
  "cells": [
    {
      "cell_type": "markdown",
      "metadata": {
        "id": "view-in-github",
        "colab_type": "text"
      },
      "source": [
        "<a href=\"https://colab.research.google.com/github/mdsiam135/research/blob/main/KNN(3_labels).ipynb\" target=\"_parent\"><img src=\"https://colab.research.google.com/assets/colab-badge.svg\" alt=\"Open In Colab\"/></a>"
      ]
    },
    {
      "cell_type": "code",
      "source": [
        "# =============================================================================\n",
        "# STEP-BY-STEP KNN AGRICULTURAL PRODUCTION CLASSIFICATION MODEL\n",
        "# =============================================================================\n",
        "\n",
        "# =============================================================================\n",
        "# STEP 1: IMPORT REQUIRED LIBRARIES\n",
        "# =============================================================================\n",
        "print(\"🔧 STEP 1: Importing Required Libraries...\")\n",
        "\n",
        "import pandas as pd\n",
        "import numpy as np\n",
        "import matplotlib.pyplot as plt\n",
        "import seaborn as sns\n",
        "from sklearn.neighbors import KNeighborsClassifier\n",
        "from sklearn.preprocessing import StandardScaler, LabelEncoder\n",
        "from sklearn.metrics import (\n",
        "    classification_report, confusion_matrix, accuracy_score,\n",
        "    precision_score, recall_score, f1_score, log_loss\n",
        ")\n",
        "from sklearn.model_selection import cross_val_score\n",
        "import warnings\n",
        "warnings.filterwarnings('ignore')\n",
        "\n",
        "# Set matplotlib style for better plots\n",
        "plt.style.use('default')\n",
        "plt.rcParams['figure.figsize'] = (12, 5)\n",
        "plt.rcParams['font.size'] = 10\n",
        "\n",
        "print(\"✅ Libraries imported successfully!\")\n"
      ],
      "metadata": {
        "colab": {
          "base_uri": "https://localhost:8080/"
        },
        "id": "00GFUtk_2fpY",
        "outputId": "154613ed-fe8c-4953-e4c2-4db2817ebd7c"
      },
      "execution_count": 3,
      "outputs": [
        {
          "output_type": "stream",
          "name": "stdout",
          "text": [
            "🔧 STEP 1: Importing Required Libraries...\n",
            "✅ Libraries imported successfully!\n"
          ]
        }
      ]
    },
    {
      "cell_type": "code",
      "source": [
        "# =============================================================================\n",
        "# STEP 2: DEFINE CONFIGURATION PARAMETERS\n",
        "# =============================================================================\n",
        "print(\"\\n⚙️ STEP 2: Setting Configuration Parameters...\")\n",
        "\n",
        "# Model parameters\n",
        "N_NEIGHBORS = 5        # Number of neighbors for KNN\n",
        "N_EPOCHS = 50         # Number of training epochs\n",
        "RANDOM_SEED = 42      # For reproducibility\n",
        "\n",
        "# File paths (modify these according to your file locations)\n",
        "TRAIN_PATH = 'train.csv'\n",
        "VALIDATION_PATH = 'validation.csv'\n",
        "TEST_PATH = 'test.csv'\n",
        "\n",
        "# Set random seed for reproducibility\n",
        "np.random.seed(RANDOM_SEED)\n",
        "\n",
        "print(f\"✅ Configuration set - KNN neighbors: {N_NEIGHBORS}, Epochs: {N_EPOCHS}\")\n"
      ],
      "metadata": {
        "colab": {
          "base_uri": "https://localhost:8080/"
        },
        "id": "iz7QW0aU3pvn",
        "outputId": "b6807781-66c4-4ba6-802e-d3fb33fcc1ba"
      },
      "execution_count": 4,
      "outputs": [
        {
          "output_type": "stream",
          "name": "stdout",
          "text": [
            "\n",
            "⚙️ STEP 2: Setting Configuration Parameters...\n",
            "✅ Configuration set - KNN neighbors: 5, Epochs: 50\n"
          ]
        }
      ]
    },
    {
      "cell_type": "code",
      "source": [
        "# =============================================================================\n",
        "# STEP 3: DEFINE HELPER FUNCTIONS\n",
        "# =============================================================================\n",
        "print(\"\\n🛠️ STEP 3: Defining Helper Functions...\")\n",
        "\n",
        "def calculate_loss(y_true, y_pred_proba):\n",
        "    \"\"\"\n",
        "    Calculate cross-entropy loss for KNN model\n",
        "    \"\"\"\n",
        "    epsilon = 1e-15\n",
        "    y_pred_proba = np.clip(y_pred_proba, epsilon, 1 - epsilon)\n",
        "    loss = log_loss(y_true, y_pred_proba)\n",
        "    return loss\n",
        "\n",
        "def create_production_labels(df_list):\n",
        "    \"\"\"\n",
        "    Create categorical labels (low, medium, high) based on production values\n",
        "    \"\"\"\n",
        "    # Combine all production values to determine thresholds\n",
        "    all_production = pd.concat([df['Production (M.Ton)'] for df in df_list])\n",
        "\n",
        "    # Define thresholds using quantiles\n",
        "    low_threshold = np.percentile(all_production, 33.33)\n",
        "    high_threshold = np.percentile(all_production, 66.67)\n",
        "\n",
        "    print(f\"📊 Production thresholds:\")\n",
        "    print(f\"   Low: < {low_threshold:.2f}\")\n",
        "    print(f\"   Medium: {low_threshold:.2f} - {high_threshold:.2f}\")\n",
        "    print(f\"   High: > {high_threshold:.2f}\")\n",
        "\n",
        "    # Create labels for each dataset\n",
        "    for df in df_list:\n",
        "        df['Production_Label'] = pd.cut(\n",
        "            df['Production (M.Ton)'],\n",
        "            bins=[-np.inf, low_threshold, high_threshold, np.inf],\n",
        "            labels=['low', 'medium', 'high']\n",
        "        )\n",
        "\n",
        "    return df_list\n",
        "\n",
        "print(\"✅ Helper functions defined!\")\n"
      ],
      "metadata": {
        "colab": {
          "base_uri": "https://localhost:8080/"
        },
        "id": "OKbdjQC63pkX",
        "outputId": "b10c1c06-e46b-41f1-e82a-1e4d33c83d69"
      },
      "execution_count": 5,
      "outputs": [
        {
          "output_type": "stream",
          "name": "stdout",
          "text": [
            "\n",
            "🛠️ STEP 3: Defining Helper Functions...\n",
            "✅ Helper functions defined!\n"
          ]
        }
      ]
    },
    {
      "cell_type": "code",
      "source": [
        "# =============================================================================\n",
        "# STEP 4: LOAD AND EXPLORE DATA\n",
        "# =============================================================================\n",
        "print(\"\\n📂 STEP 4: Loading and Exploring Data...\")\n",
        "\n",
        "try:\n",
        "    # Load datasets\n",
        "    print(\"Loading CSV files...\")\n",
        "    train_df = pd.read_csv('/content/drive/MyDrive/Yearbook of Agricultural Statistics/train.csv')\n",
        "    val_df = pd.read_csv('/content/drive/MyDrive/Yearbook of Agricultural Statistics/validation.csv')\n",
        "    test_df = pd.read_csv('/content/drive/MyDrive/Yearbook of Agricultural Statistics/test.csv')\n",
        "\n",
        "    print(f\"✅ Data loaded successfully!\")\n",
        "    print(f\"   Training set shape: {train_df.shape}\")\n",
        "    print(f\"   Validation set shape: {val_df.shape}\")\n",
        "    print(f\"   Test set shape: {test_df.shape}\")\n",
        "\n",
        "    # Display basic info about the dataset\n",
        "    print(f\"\\n📈 Dataset Information:\")\n",
        "    print(f\"   Total features: {len(train_df.columns) - 1}\")  # -1 for target column\n",
        "    print(f\"   Production range: {train_df['Production (M.Ton)'].min():.2f} - {train_df['Production (M.Ton)'].max():.2f}\")\n",
        "\n",
        "except FileNotFoundError as e:\n",
        "    print(f\"❌ Error loading files: {e}\")\n",
        "    print(\"Please ensure CSV files are in the correct path:\")\n",
        "    print(f\"   - {TRAIN_PATH}\")\n",
        "    print(f\"   - {VALIDATION_PATH}\")\n",
        "    print(f\"   - {TEST_PATH}\")\n",
        "    exit()\n"
      ],
      "metadata": {
        "colab": {
          "base_uri": "https://localhost:8080/"
        },
        "id": "2uhSIPXt3paA",
        "outputId": "e0bb3918-b1a9-41a4-dc2c-eb0f7398f0af"
      },
      "execution_count": 6,
      "outputs": [
        {
          "output_type": "stream",
          "name": "stdout",
          "text": [
            "\n",
            "📂 STEP 4: Loading and Exploring Data...\n",
            "Loading CSV files...\n",
            "✅ Data loaded successfully!\n",
            "   Training set shape: (3584, 84)\n",
            "   Validation set shape: (768, 84)\n",
            "   Test set shape: (768, 84)\n",
            "\n",
            "📈 Dataset Information:\n",
            "   Total features: 83\n",
            "   Production range: 0.00 - 544979.54\n"
          ]
        }
      ]
    },
    {
      "cell_type": "code",
      "source": [
        "# =============================================================================\n",
        "# STEP 5: DATA PREPROCESSING\n",
        "# =============================================================================\n",
        "print(\"\\n🔄 STEP 5: Data Preprocessing...\")\n",
        "\n",
        "# Create production labels\n",
        "print(\"Creating production labels...\")\n",
        "train_df, val_df, test_df = create_production_labels([train_df, val_df, test_df])\n",
        "\n",
        "# Prepare features (exclude target columns)\n",
        "feature_columns = [col for col in train_df.columns\n",
        "                  if col not in ['Production (M.Ton)', 'Production_Label']]\n",
        "\n",
        "print(f\"📊 Feature columns: {len(feature_columns)}\")\n",
        "\n",
        "# Extract features and labels\n",
        "X_train = train_df[feature_columns]\n",
        "X_val = val_df[feature_columns]\n",
        "X_test = test_df[feature_columns]\n",
        "\n",
        "y_train = train_df['Production_Label']\n",
        "y_val = val_df['Production_Label']\n",
        "y_test = test_df['Production_Label']\n",
        "\n",
        "# Initialize encoders and scalers\n",
        "label_encoder = LabelEncoder()\n",
        "scaler = StandardScaler()\n",
        "\n",
        "# Encode labels\n",
        "y_train_encoded = label_encoder.fit_transform(y_train)\n",
        "y_val_encoded = label_encoder.transform(y_val)\n",
        "y_test_encoded = label_encoder.transform(y_test)\n",
        "\n",
        "# Scale features\n",
        "X_train_scaled = scaler.fit_transform(X_train)\n",
        "X_val_scaled = scaler.transform(X_val)\n",
        "X_test_scaled = scaler.transform(X_test)\n",
        "\n",
        "# Display label distribution\n",
        "print(f\"\\n📊 Label Distribution:\")\n",
        "label_counts = pd.Series(y_train).value_counts()\n",
        "for label, count in label_counts.items():\n",
        "    print(f\"   {label}: {count} samples ({count/len(y_train)*100:.1f}%)\")\n",
        "\n",
        "print(\"✅ Data preprocessing completed!\")"
      ],
      "metadata": {
        "colab": {
          "base_uri": "https://localhost:8080/"
        },
        "id": "tpYYLb2o4tuw",
        "outputId": "5412528a-9bac-44f8-cb0c-4bac8397041e"
      },
      "execution_count": 7,
      "outputs": [
        {
          "output_type": "stream",
          "name": "stdout",
          "text": [
            "\n",
            "🔄 STEP 5: Data Preprocessing...\n",
            "Creating production labels...\n",
            "📊 Production thresholds:\n",
            "   Low: < 1068.82\n",
            "   Medium: 1068.82 - 3901.84\n",
            "   High: > 3901.84\n",
            "📊 Feature columns: 83\n",
            "\n",
            "📊 Label Distribution:\n",
            "   high: 1199 samples (33.5%)\n",
            "   low: 1198 samples (33.4%)\n",
            "   medium: 1187 samples (33.1%)\n",
            "✅ Data preprocessing completed!\n"
          ]
        }
      ]
    },
    {
      "cell_type": "code",
      "source": [
        "# =============================================================================\n",
        "# STEP 6: INITIALIZE AND CONFIGURE MODEL\n",
        "# =============================================================================\n",
        "print(\"\\n🤖 STEP 6: Initializing KNN Model...\")\n",
        "\n",
        "# Initialize KNN model\n",
        "knn_model = KNeighborsClassifier(n_neighbors=N_NEIGHBORS)\n",
        "\n",
        "# Initialize training history tracking\n",
        "training_history = {\n",
        "    'accuracy': [],\n",
        "    'val_accuracy': [],\n",
        "    'loss': [],\n",
        "    'val_loss': []\n",
        "}\n",
        "\n",
        "print(f\"✅ KNN model initialized with {N_NEIGHBORS} neighbors\")\n"
      ],
      "metadata": {
        "colab": {
          "base_uri": "https://localhost:8080/"
        },
        "id": "51MZnzWA45TX",
        "outputId": "26dc5454-eb2c-4817-de9e-a4909ee37423"
      },
      "execution_count": 8,
      "outputs": [
        {
          "output_type": "stream",
          "name": "stdout",
          "text": [
            "\n",
            "🤖 STEP 6: Initializing KNN Model...\n",
            "✅ KNN model initialized with 5 neighbors\n"
          ]
        }
      ]
    },
    {
      "cell_type": "code",
      "source": [
        "# =============================================================================\n",
        "# STEP 7: TRAINING LOOP WITH EPOCHS\n",
        "# =============================================================================\n",
        "print(f\"\\n🚀 STEP 7: Training Model for {N_EPOCHS} Epochs...\")\n",
        "\n",
        "best_val_accuracy = 0\n",
        "best_model = None\n",
        "\n",
        "print(\"Starting training loop...\")\n",
        "print(\"-\" * 70)\n",
        "\n",
        "for epoch in range(N_EPOCHS):\n",
        "    # Train the model\n",
        "    knn_model.fit(X_train_scaled, y_train_encoded)\n",
        "\n",
        "    # Calculate training metrics\n",
        "    train_pred = knn_model.predict(X_train_scaled)\n",
        "    train_pred_proba = knn_model.predict_proba(X_train_scaled)\n",
        "    train_accuracy = accuracy_score(y_train_encoded, train_pred)\n",
        "    train_loss = calculate_loss(y_train_encoded, train_pred_proba)\n",
        "\n",
        "    # Calculate validation metrics\n",
        "    val_pred = knn_model.predict(X_val_scaled)\n",
        "    val_pred_proba = knn_model.predict_proba(X_val_scaled)\n",
        "    val_accuracy = accuracy_score(y_val_encoded, val_pred)\n",
        "    val_loss = calculate_loss(y_val_encoded, val_pred_proba)\n",
        "\n",
        "    # Store history\n",
        "    training_history['accuracy'].append(train_accuracy)\n",
        "    training_history['val_accuracy'].append(val_accuracy)\n",
        "    training_history['loss'].append(train_loss)\n",
        "    training_history['val_loss'].append(val_loss)\n",
        "\n",
        "    # Keep track of best model\n",
        "    if val_accuracy > best_val_accuracy:\n",
        "        best_val_accuracy = val_accuracy\n",
        "        best_model = knn_model\n",
        "\n",
        "    # Print progress every 10 epochs\n",
        "    if (epoch + 1) % 10 == 0:\n",
        "        print(f\"Epoch {epoch + 1:2d}/{N_EPOCHS} - \"\n",
        "              f\"Train Acc: {train_accuracy:.4f}, Val Acc: {val_accuracy:.4f}, \"\n",
        "              f\"Train Loss: {train_loss:.4f}, Val Loss: {val_loss:.4f}\")\n",
        "\n",
        "# Use best model\n",
        "knn_model = best_model\n",
        "print(\"-\" * 70)\n",
        "print(f\"✅ Training completed! Best validation accuracy: {best_val_accuracy:.4f}\")\n"
      ],
      "metadata": {
        "colab": {
          "base_uri": "https://localhost:8080/"
        },
        "id": "-6m0v6Jr449X",
        "outputId": "dd25cf10-7fae-4032-826d-59126271d62c"
      },
      "execution_count": 9,
      "outputs": [
        {
          "output_type": "stream",
          "name": "stdout",
          "text": [
            "\n",
            "🚀 STEP 7: Training Model for 50 Epochs...\n",
            "Starting training loop...\n",
            "----------------------------------------------------------------------\n",
            "Epoch 10/50 - Train Acc: 0.9210, Val Acc: 0.8932, Train Loss: 0.1738, Val Loss: 0.6291\n",
            "Epoch 20/50 - Train Acc: 0.9210, Val Acc: 0.8932, Train Loss: 0.1738, Val Loss: 0.6291\n",
            "Epoch 30/50 - Train Acc: 0.9210, Val Acc: 0.8932, Train Loss: 0.1738, Val Loss: 0.6291\n",
            "Epoch 40/50 - Train Acc: 0.9210, Val Acc: 0.8932, Train Loss: 0.1738, Val Loss: 0.6291\n",
            "Epoch 50/50 - Train Acc: 0.9210, Val Acc: 0.8932, Train Loss: 0.1738, Val Loss: 0.6291\n",
            "----------------------------------------------------------------------\n",
            "✅ Training completed! Best validation accuracy: 0.8932\n"
          ]
        }
      ]
    },
    {
      "cell_type": "code",
      "source": [
        "# =============================================================================\n",
        "# STEP 8: PLOT TRAINING HISTORY\n",
        "# =============================================================================\n",
        "print(\"\\n📊 STEP 8: Plotting Training History...\")\n",
        "\n",
        "def plot_training_history(history):\n",
        "    \"\"\"Plot training and validation accuracy & loss\"\"\"\n",
        "    fig, (ax1, ax2) = plt.subplots(1, 2, figsize=(15, 6))\n",
        "\n",
        "    epochs = range(1, len(history['accuracy']) + 1)\n",
        "\n",
        "    # Plot 1: Model Accuracy\n",
        "    ax1.plot(epochs, history['accuracy'], 'b-', linewidth=2, label='Train')\n",
        "    ax1.plot(epochs, history['val_accuracy'], 'orange', linewidth=2, label='Validation')\n",
        "    ax1.set_title('Model Accuracy', fontsize=16, fontweight='bold')\n",
        "    ax1.set_xlabel('Epoch', fontsize=12)\n",
        "    ax1.set_ylabel('Accuracy', fontsize=12)\n",
        "    ax1.legend(fontsize=12)\n",
        "    ax1.grid(True, alpha=0.3)\n",
        "    ax1.set_ylim(0, 1)\n",
        "\n",
        "    # Plot 2: Model Loss\n",
        "    ax2.plot(epochs, history['loss'], 'b-', linewidth=2, label='Train')\n",
        "    ax2.plot(epochs, history['val_loss'], 'orange', linewidth=2, label='Validation')\n",
        "    ax2.set_title('Model Loss', fontsize=16, fontweight='bold')\n",
        "    ax2.set_xlabel('Epoch', fontsize=12)\n",
        "    ax2.set_ylabel('Loss', fontsize=12)\n",
        "    ax2.legend(fontsize=12)\n",
        "    ax2.grid(True, alpha=0.3)\n",
        "\n",
        "    # Styling\n",
        "    for ax in [ax1, ax2]:\n",
        "        ax.spines['top'].set_visible(False)\n",
        "        ax.spines['right'].set_visible(False)\n",
        "        ax.tick_params(labelsize=10)\n",
        "\n",
        "    plt.tight_layout()\n",
        "    plt.show()\n",
        "\n",
        "# Generate training plots\n",
        "plot_training_history(training_history)\n",
        "\n",
        "print(f\"📈 Final Training Results:\")\n",
        "print(f\"   Final Training Accuracy: {training_history['accuracy'][-1]:.4f}\")\n",
        "print(f\"   Final Validation Accuracy: {training_history['val_accuracy'][-1]:.4f}\")\n",
        "print(f\"   Final Training Loss: {training_history['loss'][-1]:.4f}\")\n",
        "print(f\"   Final Validation Loss: {training_history['val_loss'][-1]:.4f}\")\n"
      ],
      "metadata": {
        "colab": {
          "base_uri": "https://localhost:8080/",
          "height": 539
        },
        "id": "HeSArzOo6hvA",
        "outputId": "6c19ac1a-3eca-4bd9-d801-468eb9b824b3"
      },
      "execution_count": 10,
      "outputs": [
        {
          "output_type": "stream",
          "name": "stdout",
          "text": [
            "\n",
            "📊 STEP 8: Plotting Training History...\n"
          ]
        },
        {
          "output_type": "display_data",
          "data": {
            "text/plain": [
              "<Figure size 1500x600 with 2 Axes>"
            ],
            "image/png": "[encoded data removed]"
          },
          "metadata": {}
        },
        {
          "output_type": "stream",
          "name": "stdout",
          "text": [
            "📈 Final Training Results:\n",
            "   Final Training Accuracy: 0.9210\n",
            "   Final Validation Accuracy: 0.8932\n",
            "   Final Training Loss: 0.1738\n",
            "   Final Validation Loss: 0.6291\n"
          ]
        }
      ]
    },
    {
      "cell_type": "code",
      "source": [
        "\n",
        "# =============================================================================\n",
        "# STEP 9: DEFINE EVALUATION FUNCTIONS\n",
        "# =============================================================================\n",
        "print(\"\\n📏 STEP 9: Defining Evaluation Functions...\")\n",
        "\n",
        "def evaluate_model(model, X, y, dataset_name):\n",
        "    \"\"\"Comprehensive model evaluation\"\"\"\n",
        "    predictions = model.predict(X)\n",
        "\n",
        "    # Calculate all metrics\n",
        "    accuracy = accuracy_score(y, predictions)\n",
        "    precision_macro = precision_score(y, predictions, average='macro', zero_division=0)\n",
        "    recall_macro = recall_score(y, predictions, average='macro', zero_division=0)\n",
        "    f1_macro = f1_score(y, predictions, average='macro', zero_division=0)\n",
        "\n",
        "    precision_weighted = precision_score(y, predictions, average='weighted', zero_division=0)\n",
        "    recall_weighted = recall_score(y, predictions, average='weighted', zero_division=0)\n",
        "    f1_weighted = f1_score(y, predictions, average='weighted', zero_division=0)\n",
        "\n",
        "    results = {\n",
        "        'Dataset': dataset_name,\n",
        "        'Accuracy': accuracy,\n",
        "        'Precision (Macro)': precision_macro,\n",
        "        'Recall (Macro)': recall_macro,\n",
        "        'F1 Score (Macro)': f1_macro,\n",
        "        'Precision (Weighted)': precision_weighted,\n",
        "        'Recall (Weighted)': recall_weighted,\n",
        "        'F1 Score (Weighted)': f1_weighted\n",
        "    }\n",
        "\n",
        "    return results, predictions\n",
        "\n",
        "def plot_confusion_matrix(y_true, y_pred, dataset_name, label_encoder):\n",
        "    \"\"\"Plot enhanced confusion matrix\"\"\"\n",
        "    plt.figure(figsize=(8, 6))\n",
        "    cm = confusion_matrix(y_true, y_pred)\n",
        "    labels = label_encoder.classes_\n",
        "\n",
        "    sns.heatmap(cm, annot=True, fmt='d', cmap='Blues', cbar_kws={'shrink': 0.8},\n",
        "               xticklabels=labels, yticklabels=labels, square=True,\n",
        "               linewidths=0.5, annot_kws={'size': 12})\n",
        "\n",
        "    plt.title(f'Confusion Matrix - {dataset_name}', fontsize=16, fontweight='bold', pad=20)\n",
        "    plt.xlabel('Predicted', fontsize=14)\n",
        "    plt.ylabel('Actual', fontsize=14)\n",
        "    plt.xticks(fontsize=12)\n",
        "    plt.yticks(fontsize=12, rotation=0)\n",
        "    plt.tight_layout()\n",
        "    plt.show()\n",
        "\n",
        "    # Print statistics\n",
        "    total_samples = np.sum(cm)\n",
        "    correct_predictions = np.trace(cm)\n",
        "    print(f\"\\n📊 Confusion Matrix Statistics - {dataset_name}:\")\n",
        "    print(f\"   Total Samples: {total_samples}\")\n",
        "    print(f\"   Correct Predictions: {correct_predictions}\")\n",
        "    print(f\"   Accuracy: {correct_predictions/total_samples:.4f}\")\n",
        "\n",
        "print(\"✅ Evaluation functions defined!\")\n"
      ],
      "metadata": {
        "colab": {
          "base_uri": "https://localhost:8080/"
        },
        "id": "OWBc7MTG6ilg",
        "outputId": "b2483bee-d93e-4a8a-a7db-251edaefb0e3"
      },
      "execution_count": 11,
      "outputs": [
        {
          "output_type": "stream",
          "name": "stdout",
          "text": [
            "\n",
            "📏 STEP 9: Defining Evaluation Functions...\n",
            "✅ Evaluation functions defined!\n"
          ]
        }
      ]
    },
    {
      "cell_type": "code",
      "source": [
        "\n",
        "# =============================================================================\n",
        "# STEP 10: VALIDATION SET EVALUATION\n",
        "# =============================================================================\n",
        "print(\"\\n🔍 STEP 10: Evaluating on Validation Set...\")\n",
        "print(\"=\" * 60)\n",
        "\n",
        "val_results, val_predictions = evaluate_model(knn_model, X_val_scaled, y_val_encoded, \"Validation\")\n",
        "\n",
        "print(\"VALIDATION SET METRICS:\")\n",
        "for metric, value in val_results.items():\n",
        "    if metric != 'Dataset':\n",
        "        print(f\"   {metric}: {value:.4f}\")\n",
        "\n",
        "# Classification report\n",
        "labels = label_encoder.classes_\n",
        "val_report = classification_report(y_val_encoded, val_predictions, target_names=labels)\n",
        "print(f\"\\n📋 Detailed Classification Report - Validation:\")\n",
        "print(val_report)\n",
        "\n",
        "# Confusion matrix\n",
        "plot_confusion_matrix(y_val_encoded, val_predictions, \"Validation Set\", label_encoder)\n"
      ],
      "metadata": {
        "colab": {
          "base_uri": "https://localhost:8080/",
          "height": 1000
        },
        "id": "-U26SSxZ6q4w",
        "outputId": "731d7dc7-0b0d-4a22-d86d-39c4c07dc85a"
      },
      "execution_count": 12,
      "outputs": [
        {
          "output_type": "stream",
          "name": "stdout",
          "text": [
            "\n",
            "🔍 STEP 10: Evaluating on Validation Set...\n",
            "============================================================\n",
            "VALIDATION SET METRICS:\n",
            "   Accuracy: 0.8932\n",
            "   Precision (Macro): 0.8935\n",
            "   Recall (Macro): 0.8935\n",
            "   F1 Score (Macro): 0.8932\n",
            "   Precision (Weighted): 0.8932\n",
            "   Recall (Weighted): 0.8932\n",
            "   F1 Score (Weighted): 0.8929\n",
            "\n",
            "📋 Detailed Classification Report - Validation:\n",
            "              precision    recall  f1-score   support\n",
            "\n",
            "        high       0.87      0.91      0.89       257\n",
            "         low       0.94      0.94      0.94       253\n",
            "      medium       0.87      0.83      0.85       258\n",
            "\n",
            "    accuracy                           0.89       768\n",
            "   macro avg       0.89      0.89      0.89       768\n",
            "weighted avg       0.89      0.89      0.89       768\n",
            "\n"
          ]
        },
        {
          "output_type": "display_data",
          "data": {
            "text/plain": [
              "<Figure size 800x600 with 2 Axes>"
            ],
            "image/png": "[encoded data removed]"
          },
          "metadata": {}
        },
        {
          "output_type": "stream",
          "name": "stdout",
          "text": [
            "\n",
            "📊 Confusion Matrix Statistics - Validation Set:\n",
            "   Total Samples: 768\n",
            "   Correct Predictions: 686\n",
            "   Accuracy: 0.8932\n"
          ]
        }
      ]
    },
    {
      "cell_type": "code",
      "source": [
        "# =============================================================================\n",
        "# STEP 11: TEST SET EVALUATION\n",
        "# =============================================================================\n",
        "print(\"\\n🎯 STEP 11: Evaluating on Test Set...\")\n",
        "print(\"=\" * 60)\n",
        "\n",
        "test_results, test_predictions = evaluate_model(knn_model, X_test_scaled, y_test_encoded, \"Test\")\n",
        "\n",
        "print(\"TEST SET METRICS:\")\n",
        "for metric, value in test_results.items():\n",
        "    if metric != 'Dataset':\n",
        "        print(f\"   {metric}: {value:.4f}\")\n",
        "\n",
        "# Classification report\n",
        "test_report = classification_report(y_test_encoded, test_predictions, target_names=labels)\n",
        "print(f\"\\n📋 Detailed Classification Report - Test:\")\n",
        "print(test_report)\n",
        "\n",
        "# Confusion matrix\n",
        "plot_confusion_matrix(y_test_encoded, test_predictions, \"Test Set\", label_encoder)\n"
      ],
      "metadata": {
        "colab": {
          "base_uri": "https://localhost:8080/",
          "height": 1000
        },
        "id": "WSC9OmYa6uDA",
        "outputId": "0894459e-8323-4a19-c2a8-0e078d3586d6"
      },
      "execution_count": 13,
      "outputs": [
        {
          "output_type": "stream",
          "name": "stdout",
          "text": [
            "\n",
            "🎯 STEP 11: Evaluating on Test Set...\n",
            "============================================================\n",
            "TEST SET METRICS:\n",
            "   Accuracy: 0.9076\n",
            "   Precision (Macro): 0.9079\n",
            "   Recall (Macro): 0.9078\n",
            "   F1 Score (Macro): 0.9078\n",
            "   Precision (Weighted): 0.9077\n",
            "   Recall (Weighted): 0.9076\n",
            "   F1 Score (Weighted): 0.9076\n",
            "\n",
            "📋 Detailed Classification Report - Test:\n",
            "              precision    recall  f1-score   support\n",
            "\n",
            "        high       0.91      0.92      0.91       251\n",
            "         low       0.94      0.92      0.93       256\n",
            "      medium       0.88      0.88      0.88       261\n",
            "\n",
            "    accuracy                           0.91       768\n",
            "   macro avg       0.91      0.91      0.91       768\n",
            "weighted avg       0.91      0.91      0.91       768\n",
            "\n"
          ]
        },
        {
          "output_type": "display_data",
          "data": {
            "text/plain": [
              "<Figure size 800x600 with 2 Axes>"
            ],
            "image/png": "[encoded data removed]"
          },
          "metadata": {}
        },
        {
          "output_type": "stream",
          "name": "stdout",
          "text": [
            "\n",
            "📊 Confusion Matrix Statistics - Test Set:\n",
            "   Total Samples: 768\n",
            "   Correct Predictions: 697\n",
            "   Accuracy: 0.9076\n"
          ]
        }
      ]
    },
    {
      "cell_type": "code",
      "source": [
        "# =============================================================================\n",
        "# STEP 12: FINAL RESULTS SUMMARY\n",
        "# =============================================================================\n",
        "print(\"\\n📊 STEP 12: Final Results Summary...\")\n",
        "print(\"=\" * 80)\n",
        "\n",
        "# Create summary table\n",
        "results_df = pd.DataFrame([val_results, test_results])\n",
        "print(\"COMPREHENSIVE RESULTS COMPARISON:\")\n",
        "print(results_df.round(4).to_string(index=False))\n",
        "\n",
        "# Key metrics highlight\n",
        "print(f\"\\n🎯 KEY PERFORMANCE INDICATORS:\")\n",
        "print(f\"   Validation Accuracy: {val_results['Accuracy']:.4f}\")\n",
        "print(f\"   Test Accuracy: {test_results['Accuracy']:.4f}\")\n",
        "print(f\"   Validation Macro F1 Score: {val_results['F1 Score (Macro)']:.4f}\")\n",
        "print(f\"   Test Macro F1 Score: {test_results['F1 Score (Macro)']:.4f}\")\n",
        "\n",
        "# Model performance analysis\n",
        "print(f\"\\n📈 PERFORMANCE ANALYSIS:\")\n",
        "accuracy_drop = val_results['Accuracy'] - test_results['Accuracy']\n",
        "f1_drop = val_results['F1 Score (Macro)'] - test_results['F1 Score (Macro)']\n",
        "\n",
        "print(f\"   Accuracy drop from validation to test: {accuracy_drop:.4f}\")\n",
        "print(f\"   F1 score drop from validation to test: {f1_drop:.4f}\")\n",
        "\n",
        "if accuracy_drop > 0.05:\n",
        "    print(\"   ⚠️  Possible overfitting detected (accuracy drop > 5%)\")\n",
        "else:\n",
        "    print(\"   ✅ Good generalization (accuracy drop < 5%)\")\n",
        "\n",
        "print(f\"\\n🎉 MODEL TRAINING AND EVALUATION COMPLETED SUCCESSFULLY!\")\n",
        "print(f\"🚀 Your KNN Agricultural Production Classifier is ready!\")\n"
      ],
      "metadata": {
        "colab": {
          "base_uri": "https://localhost:8080/"
        },
        "id": "PxVfh2k_6ypq",
        "outputId": "1df5cbd7-4db1-4150-df2a-e928dc73bc62"
      },
      "execution_count": 14,
      "outputs": [
        {
          "output_type": "stream",
          "name": "stdout",
          "text": [
            "\n",
            "📊 STEP 12: Final Results Summary...\n",
            "================================================================================\n",
            "COMPREHENSIVE RESULTS COMPARISON:\n",
            "   Dataset  Accuracy  Precision (Macro)  Recall (Macro)  F1 Score (Macro)  Precision (Weighted)  Recall (Weighted)  F1 Score (Weighted)\n",
            "Validation    0.8932             0.8935          0.8935            0.8932                0.8932             0.8932               0.8929\n",
            "      Test    0.9076             0.9079          0.9078            0.9078                0.9077             0.9076               0.9076\n",
            "\n",
            "🎯 KEY PERFORMANCE INDICATORS:\n",
            "   Validation Accuracy: 0.8932\n",
            "   Test Accuracy: 0.9076\n",
            "   Validation Macro F1 Score: 0.8932\n",
            "   Test Macro F1 Score: 0.9078\n",
            "\n",
            "📈 PERFORMANCE ANALYSIS:\n",
            "   Accuracy drop from validation to test: -0.0143\n",
            "   F1 score drop from validation to test: -0.0146\n",
            "   ✅ Good generalization (accuracy drop < 5%)\n",
            "\n",
            "🎉 MODEL TRAINING AND EVALUATION COMPLETED SUCCESSFULLY!\n",
            "🚀 Your KNN Agricultural Production Classifier is ready!\n"
          ]
        }
      ]
    },
    {
      "cell_type": "code",
      "execution_count": 15,
      "metadata": {
        "colab": {
          "base_uri": "https://localhost:8080/"
        },
        "id": "Qurxv25WoDtH",
        "outputId": "732265ec-e256-4370-d12b-0b0eb432c966"
      },
      "outputs": [
        {
          "output_type": "stream",
          "name": "stdout",
          "text": [
            "\n",
            "💾 STEP 13: Model Information Summary...\n",
            "📋 MODEL SUMMARY:\n",
            "   Model Type: K-Nearest Neighbors (KNN)\n",
            "   Number of Neighbors: 5\n",
            "   Training Epochs: 50\n",
            "   Number of Features: 83\n",
            "   Number of Classes: 3\n",
            "   Classes: ['high', 'low', 'medium']\n",
            "   Best Validation Accuracy: 0.8932291666666666\n",
            "   Final Test Accuracy: 0.9075520833333334\n",
            "   Final Test Macro F1: 0.9078421508009491\n",
            "\n",
            "✨ All steps completed successfully! ✨\n",
            "📊 Check the generated plots above for visual analysis.\n",
            "🎯 Your model achieved 90.8% accuracy on the test set!\n"
          ]
        }
      ],
      "source": [
        "\n",
        "\n",
        "\n",
        "# =============================================================================\n",
        "# STEP 13: SAVE MODEL INFORMATION (OPTIONAL)\n",
        "# =============================================================================\n",
        "print(f\"\\n💾 STEP 13: Model Information Summary...\")\n",
        "\n",
        "model_info = {\n",
        "    'Model Type': 'K-Nearest Neighbors (KNN)',\n",
        "    'Number of Neighbors': N_NEIGHBORS,\n",
        "    'Training Epochs': N_EPOCHS,\n",
        "    'Number of Features': len(feature_columns),\n",
        "    'Number of Classes': len(label_encoder.classes_),\n",
        "    'Classes': list(label_encoder.classes_),\n",
        "    'Best Validation Accuracy': best_val_accuracy,\n",
        "    'Final Test Accuracy': test_results['Accuracy'],\n",
        "    'Final Test Macro F1': test_results['F1 Score (Macro)']\n",
        "}\n",
        "\n",
        "print(\"📋 MODEL SUMMARY:\")\n",
        "for key, value in model_info.items():\n",
        "    print(f\"   {key}: {value}\")\n",
        "\n",
        "print(f\"\\n✨ All steps completed successfully! ✨\")\n",
        "print(f\"📊 Check the generated plots above for visual analysis.\")\n",
        "print(f\"🎯 Your model achieved {test_results['Accuracy']:.1%} accuracy on the test set!\")"
      ]
    }
  ]
}